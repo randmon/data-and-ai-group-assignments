{
 "cells": [
  {
   "cell_type": "code",
   "execution_count": 1,
   "metadata": {},
   "outputs": [],
   "source": [
    "import pandas as pd\n",
    "import numpy as np\n",
    "import matplotlib.pyplot as plt\n",
    "import plotly.express as px"
   ]
  },
  {
   "cell_type": "code",
   "execution_count": 2,
   "metadata": {},
   "outputs": [],
   "source": [
    "df1=pd.read_csv('studentAssessment.csv')"
   ]
  },
  {
   "cell_type": "code",
   "execution_count": 3,
   "metadata": {},
   "outputs": [
    {
     "data": {
      "text/html": [
       "<div>\n",
       "<style scoped>\n",
       "    .dataframe tbody tr th:only-of-type {\n",
       "        vertical-align: middle;\n",
       "    }\n",
       "\n",
       "    .dataframe tbody tr th {\n",
       "        vertical-align: top;\n",
       "    }\n",
       "\n",
       "    .dataframe thead th {\n",
       "        text-align: right;\n",
       "    }\n",
       "</style>\n",
       "<table border=\"1\" class=\"dataframe\">\n",
       "  <thead>\n",
       "    <tr style=\"text-align: right;\">\n",
       "      <th></th>\n",
       "      <th>id_assessment</th>\n",
       "      <th>id_student</th>\n",
       "      <th>date_submitted</th>\n",
       "      <th>is_banked</th>\n",
       "      <th>score</th>\n",
       "    </tr>\n",
       "  </thead>\n",
       "  <tbody>\n",
       "    <tr>\n",
       "      <th>0</th>\n",
       "      <td>1752</td>\n",
       "      <td>11391</td>\n",
       "      <td>18</td>\n",
       "      <td>0</td>\n",
       "      <td>78.0</td>\n",
       "    </tr>\n",
       "    <tr>\n",
       "      <th>1</th>\n",
       "      <td>1752</td>\n",
       "      <td>28400</td>\n",
       "      <td>22</td>\n",
       "      <td>0</td>\n",
       "      <td>70.0</td>\n",
       "    </tr>\n",
       "    <tr>\n",
       "      <th>2</th>\n",
       "      <td>1752</td>\n",
       "      <td>31604</td>\n",
       "      <td>17</td>\n",
       "      <td>0</td>\n",
       "      <td>72.0</td>\n",
       "    </tr>\n",
       "    <tr>\n",
       "      <th>3</th>\n",
       "      <td>1752</td>\n",
       "      <td>32885</td>\n",
       "      <td>26</td>\n",
       "      <td>0</td>\n",
       "      <td>69.0</td>\n",
       "    </tr>\n",
       "    <tr>\n",
       "      <th>4</th>\n",
       "      <td>1752</td>\n",
       "      <td>38053</td>\n",
       "      <td>19</td>\n",
       "      <td>0</td>\n",
       "      <td>79.0</td>\n",
       "    </tr>\n",
       "  </tbody>\n",
       "</table>\n",
       "</div>"
      ],
      "text/plain": [
       "   id_assessment  id_student  date_submitted  is_banked  score\n",
       "0           1752       11391              18          0   78.0\n",
       "1           1752       28400              22          0   70.0\n",
       "2           1752       31604              17          0   72.0\n",
       "3           1752       32885              26          0   69.0\n",
       "4           1752       38053              19          0   79.0"
      ]
     },
     "execution_count": 3,
     "metadata": {},
     "output_type": "execute_result"
    }
   ],
   "source": [
    "df1.head()"
   ]
  },
  {
   "cell_type": "code",
   "execution_count": 5,
   "metadata": {},
   "outputs": [
    {
     "data": {
      "text/plain": [
       "(173912, 5)"
      ]
     },
     "execution_count": 5,
     "metadata": {},
     "output_type": "execute_result"
    }
   ],
   "source": [
    "df1.shape\n",
    "##(rows, columns)"
   ]
  },
  {
   "cell_type": "code",
   "execution_count": 6,
   "metadata": {},
   "outputs": [
    {
     "name": "stdout",
     "output_type": "stream",
     "text": [
      "<class 'pandas.core.frame.DataFrame'>\n",
      "RangeIndex: 173912 entries, 0 to 173911\n",
      "Data columns (total 5 columns):\n",
      " #   Column          Non-Null Count   Dtype  \n",
      "---  ------          --------------   -----  \n",
      " 0   id_assessment   173912 non-null  int64  \n",
      " 1   id_student      173912 non-null  int64  \n",
      " 2   date_submitted  173912 non-null  int64  \n",
      " 3   is_banked       173912 non-null  int64  \n",
      " 4   score           173739 non-null  float64\n",
      "dtypes: float64(1), int64(4)\n",
      "memory usage: 6.6 MB\n"
     ]
    }
   ],
   "source": [
    "#¿Hay valores nulos?\n",
    "df1.info()"
   ]
  },
  {
   "cell_type": "code",
   "execution_count": 7,
   "metadata": {},
   "outputs": [
    {
     "data": {
      "text/html": [
       "<div>\n",
       "<style scoped>\n",
       "    .dataframe tbody tr th:only-of-type {\n",
       "        vertical-align: middle;\n",
       "    }\n",
       "\n",
       "    .dataframe tbody tr th {\n",
       "        vertical-align: top;\n",
       "    }\n",
       "\n",
       "    .dataframe thead th {\n",
       "        text-align: right;\n",
       "    }\n",
       "</style>\n",
       "<table border=\"1\" class=\"dataframe\">\n",
       "  <thead>\n",
       "    <tr style=\"text-align: right;\">\n",
       "      <th></th>\n",
       "      <th>id_assessment</th>\n",
       "      <th>id_student</th>\n",
       "      <th>date_submitted</th>\n",
       "      <th>is_banked</th>\n",
       "      <th>score</th>\n",
       "    </tr>\n",
       "  </thead>\n",
       "  <tbody>\n",
       "    <tr>\n",
       "      <th>215</th>\n",
       "      <td>1752</td>\n",
       "      <td>721259</td>\n",
       "      <td>22</td>\n",
       "      <td>0</td>\n",
       "      <td>NaN</td>\n",
       "    </tr>\n",
       "    <tr>\n",
       "      <th>937</th>\n",
       "      <td>1754</td>\n",
       "      <td>260355</td>\n",
       "      <td>127</td>\n",
       "      <td>0</td>\n",
       "      <td>NaN</td>\n",
       "    </tr>\n",
       "    <tr>\n",
       "      <th>2364</th>\n",
       "      <td>1760</td>\n",
       "      <td>2606802</td>\n",
       "      <td>180</td>\n",
       "      <td>0</td>\n",
       "      <td>NaN</td>\n",
       "    </tr>\n",
       "    <tr>\n",
       "      <th>3358</th>\n",
       "      <td>14984</td>\n",
       "      <td>186780</td>\n",
       "      <td>77</td>\n",
       "      <td>0</td>\n",
       "      <td>NaN</td>\n",
       "    </tr>\n",
       "    <tr>\n",
       "      <th>3914</th>\n",
       "      <td>14984</td>\n",
       "      <td>531205</td>\n",
       "      <td>26</td>\n",
       "      <td>0</td>\n",
       "      <td>NaN</td>\n",
       "    </tr>\n",
       "    <tr>\n",
       "      <th>...</th>\n",
       "      <td>...</td>\n",
       "      <td>...</td>\n",
       "      <td>...</td>\n",
       "      <td>...</td>\n",
       "      <td>...</td>\n",
       "    </tr>\n",
       "    <tr>\n",
       "      <th>148929</th>\n",
       "      <td>34903</td>\n",
       "      <td>582670</td>\n",
       "      <td>241</td>\n",
       "      <td>0</td>\n",
       "      <td>NaN</td>\n",
       "    </tr>\n",
       "    <tr>\n",
       "      <th>159251</th>\n",
       "      <td>37415</td>\n",
       "      <td>610738</td>\n",
       "      <td>87</td>\n",
       "      <td>0</td>\n",
       "      <td>NaN</td>\n",
       "    </tr>\n",
       "    <tr>\n",
       "      <th>166390</th>\n",
       "      <td>37427</td>\n",
       "      <td>631786</td>\n",
       "      <td>221</td>\n",
       "      <td>0</td>\n",
       "      <td>NaN</td>\n",
       "    </tr>\n",
       "    <tr>\n",
       "      <th>169725</th>\n",
       "      <td>37435</td>\n",
       "      <td>648110</td>\n",
       "      <td>62</td>\n",
       "      <td>0</td>\n",
       "      <td>NaN</td>\n",
       "    </tr>\n",
       "    <tr>\n",
       "      <th>170103</th>\n",
       "      <td>37435</td>\n",
       "      <td>480914</td>\n",
       "      <td>49</td>\n",
       "      <td>0</td>\n",
       "      <td>NaN</td>\n",
       "    </tr>\n",
       "  </tbody>\n",
       "</table>\n",
       "<p>173 rows × 5 columns</p>\n",
       "</div>"
      ],
      "text/plain": [
       "        id_assessment  id_student  date_submitted  is_banked  score\n",
       "215              1752      721259              22          0    NaN\n",
       "937              1754      260355             127          0    NaN\n",
       "2364             1760     2606802             180          0    NaN\n",
       "3358            14984      186780              77          0    NaN\n",
       "3914            14984      531205              26          0    NaN\n",
       "...               ...         ...             ...        ...    ...\n",
       "148929          34903      582670             241          0    NaN\n",
       "159251          37415      610738              87          0    NaN\n",
       "166390          37427      631786             221          0    NaN\n",
       "169725          37435      648110              62          0    NaN\n",
       "170103          37435      480914              49          0    NaN\n",
       "\n",
       "[173 rows x 5 columns]"
      ]
     },
     "execution_count": 7,
     "metadata": {},
     "output_type": "execute_result"
    }
   ],
   "source": [
    "#El valor nulo es score \n",
    "#mostrar valores nulos\n",
    "df1[np.isnan(df1['score']) == True ]"
   ]
  },
  {
   "cell_type": "code",
   "execution_count": 8,
   "metadata": {},
   "outputs": [],
   "source": [
    "#Change those null values by 0\n",
    "nan_replacements = {\"score\": 0.0}\n",
    "df1_final= df1.fillna(nan_replacements)"
   ]
  },
  {
   "cell_type": "code",
   "execution_count": 9,
   "metadata": {},
   "outputs": [
    {
     "name": "stdout",
     "output_type": "stream",
     "text": [
      "<class 'pandas.core.frame.DataFrame'>\n",
      "RangeIndex: 173912 entries, 0 to 173911\n",
      "Data columns (total 5 columns):\n",
      " #   Column          Non-Null Count   Dtype  \n",
      "---  ------          --------------   -----  \n",
      " 0   id_assessment   173912 non-null  int64  \n",
      " 1   id_student      173912 non-null  int64  \n",
      " 2   date_submitted  173912 non-null  int64  \n",
      " 3   is_banked       173912 non-null  int64  \n",
      " 4   score           173912 non-null  float64\n",
      "dtypes: float64(1), int64(4)\n",
      "memory usage: 6.6 MB\n"
     ]
    }
   ],
   "source": [
    "df1_final.info()"
   ]
  },
  {
   "cell_type": "code",
   "execution_count": 10,
   "metadata": {},
   "outputs": [
    {
     "data": {
      "text/html": [
       "<div>\n",
       "<style scoped>\n",
       "    .dataframe tbody tr th:only-of-type {\n",
       "        vertical-align: middle;\n",
       "    }\n",
       "\n",
       "    .dataframe tbody tr th {\n",
       "        vertical-align: top;\n",
       "    }\n",
       "\n",
       "    .dataframe thead th {\n",
       "        text-align: right;\n",
       "    }\n",
       "</style>\n",
       "<table border=\"1\" class=\"dataframe\">\n",
       "  <thead>\n",
       "    <tr style=\"text-align: right;\">\n",
       "      <th></th>\n",
       "      <th>id_assessment</th>\n",
       "      <th>id_student</th>\n",
       "      <th>date_submitted</th>\n",
       "      <th>is_banked</th>\n",
       "      <th>score</th>\n",
       "    </tr>\n",
       "  </thead>\n",
       "  <tbody>\n",
       "  </tbody>\n",
       "</table>\n",
       "</div>"
      ],
      "text/plain": [
       "Empty DataFrame\n",
       "Columns: [id_assessment, id_student, date_submitted, is_banked, score]\n",
       "Index: []"
      ]
     },
     "execution_count": 10,
     "metadata": {},
     "output_type": "execute_result"
    }
   ],
   "source": [
    "df1_final[np.isnan(df1_final['score']) == True ]\n",
    "#you can see as there are no longer null values in score"
   ]
  },
  {
   "cell_type": "code",
   "execution_count": 11,
   "metadata": {},
   "outputs": [
    {
     "data": {
      "text/plain": [
       "score\n",
       "0.0        502\n",
       "1.0        729\n",
       "2.0         12\n",
       "3.0         17\n",
       "4.0         28\n",
       "         ...  \n",
       "96.0      2533\n",
       "97.0      1505\n",
       "98.0      1891\n",
       "99.0       772\n",
       "100.0    18813\n",
       "Name: id_student, Length: 101, dtype: int64"
      ]
     },
     "execution_count": 11,
     "metadata": {},
     "output_type": "execute_result"
    }
   ],
   "source": [
    "df1_final.groupby(['score']).count()['id_student']\n",
    "#score-number of students with those scores"
   ]
  },
  {
   "cell_type": "code",
   "execution_count": 12,
   "metadata": {},
   "outputs": [],
   "source": [
    "#crear variable que se llame aproba\n",
    "df1_final['Approved']=np.where((df1_final['score']>=5.0),1 ,0)\n",
    "#0 sera suspenso y 1 sera aprobado"
   ]
  },
  {
   "cell_type": "code",
   "execution_count": 13,
   "metadata": {},
   "outputs": [
    {
     "data": {
      "text/plain": [
       "Approved\n",
       "0      1288\n",
       "1    172624\n",
       "Name: id_student, dtype: int64"
      ]
     },
     "execution_count": 13,
     "metadata": {},
     "output_type": "execute_result"
    }
   ],
   "source": [
    "df1_final.groupby(['Approved']).count()['id_student']"
   ]
  },
  {
   "cell_type": "code",
   "execution_count": 14,
   "metadata": {},
   "outputs": [],
   "source": [
    "df2=pd.read_csv('studentVle.csv')"
   ]
  },
  {
   "cell_type": "code",
   "execution_count": 15,
   "metadata": {},
   "outputs": [
    {
     "data": {
      "text/html": [
       "<div>\n",
       "<style scoped>\n",
       "    .dataframe tbody tr th:only-of-type {\n",
       "        vertical-align: middle;\n",
       "    }\n",
       "\n",
       "    .dataframe tbody tr th {\n",
       "        vertical-align: top;\n",
       "    }\n",
       "\n",
       "    .dataframe thead th {\n",
       "        text-align: right;\n",
       "    }\n",
       "</style>\n",
       "<table border=\"1\" class=\"dataframe\">\n",
       "  <thead>\n",
       "    <tr style=\"text-align: right;\">\n",
       "      <th></th>\n",
       "      <th>code_module</th>\n",
       "      <th>code_presentation</th>\n",
       "      <th>id_student</th>\n",
       "      <th>id_site</th>\n",
       "      <th>date</th>\n",
       "      <th>sum_click</th>\n",
       "    </tr>\n",
       "  </thead>\n",
       "  <tbody>\n",
       "    <tr>\n",
       "      <th>0</th>\n",
       "      <td>AAA</td>\n",
       "      <td>2013J</td>\n",
       "      <td>28400</td>\n",
       "      <td>546652</td>\n",
       "      <td>-10</td>\n",
       "      <td>4</td>\n",
       "    </tr>\n",
       "    <tr>\n",
       "      <th>1</th>\n",
       "      <td>AAA</td>\n",
       "      <td>2013J</td>\n",
       "      <td>28400</td>\n",
       "      <td>546652</td>\n",
       "      <td>-10</td>\n",
       "      <td>1</td>\n",
       "    </tr>\n",
       "    <tr>\n",
       "      <th>2</th>\n",
       "      <td>AAA</td>\n",
       "      <td>2013J</td>\n",
       "      <td>28400</td>\n",
       "      <td>546652</td>\n",
       "      <td>-10</td>\n",
       "      <td>1</td>\n",
       "    </tr>\n",
       "    <tr>\n",
       "      <th>3</th>\n",
       "      <td>AAA</td>\n",
       "      <td>2013J</td>\n",
       "      <td>28400</td>\n",
       "      <td>546614</td>\n",
       "      <td>-10</td>\n",
       "      <td>11</td>\n",
       "    </tr>\n",
       "    <tr>\n",
       "      <th>4</th>\n",
       "      <td>AAA</td>\n",
       "      <td>2013J</td>\n",
       "      <td>28400</td>\n",
       "      <td>546714</td>\n",
       "      <td>-10</td>\n",
       "      <td>1</td>\n",
       "    </tr>\n",
       "  </tbody>\n",
       "</table>\n",
       "</div>"
      ],
      "text/plain": [
       "  code_module code_presentation  id_student  id_site  date  sum_click\n",
       "0         AAA             2013J       28400   546652   -10          4\n",
       "1         AAA             2013J       28400   546652   -10          1\n",
       "2         AAA             2013J       28400   546652   -10          1\n",
       "3         AAA             2013J       28400   546614   -10         11\n",
       "4         AAA             2013J       28400   546714   -10          1"
      ]
     },
     "execution_count": 15,
     "metadata": {},
     "output_type": "execute_result"
    }
   ],
   "source": [
    "df2.head()"
   ]
  },
  {
   "cell_type": "code",
   "execution_count": 16,
   "metadata": {},
   "outputs": [
    {
     "data": {
      "text/plain": [
       "(10655280, 6)"
      ]
     },
     "execution_count": 16,
     "metadata": {},
     "output_type": "execute_result"
    }
   ],
   "source": [
    "df2.shape"
   ]
  },
  {
   "cell_type": "code",
   "execution_count": 21,
   "metadata": {},
   "outputs": [
    {
     "name": "stdout",
     "output_type": "stream",
     "text": [
      "<class 'pandas.core.frame.DataFrame'>\n",
      "RangeIndex: 10655280 entries, 0 to 10655279\n",
      "Data columns (total 6 columns):\n",
      " #   Column             Dtype \n",
      "---  ------             ----- \n",
      " 0   code_module        object\n",
      " 1   code_presentation  object\n",
      " 2   id_student         int64 \n",
      " 3   id_site            int64 \n",
      " 4   date               int64 \n",
      " 5   sum_click          int64 \n",
      "dtypes: int64(4), object(2)\n",
      "memory usage: 487.8+ MB\n"
     ]
    }
   ],
   "source": [
    "df2.info()\n",
    "#null values ->0"
   ]
  },
  {
   "cell_type": "code",
   "execution_count": 22,
   "metadata": {},
   "outputs": [
    {
     "data": {
      "text/html": [
       "<div>\n",
       "<style scoped>\n",
       "    .dataframe tbody tr th:only-of-type {\n",
       "        vertical-align: middle;\n",
       "    }\n",
       "\n",
       "    .dataframe tbody tr th {\n",
       "        vertical-align: top;\n",
       "    }\n",
       "\n",
       "    .dataframe thead th {\n",
       "        text-align: right;\n",
       "    }\n",
       "</style>\n",
       "<table border=\"1\" class=\"dataframe\">\n",
       "  <thead>\n",
       "    <tr style=\"text-align: right;\">\n",
       "      <th></th>\n",
       "      <th>id_student</th>\n",
       "      <th>id_site</th>\n",
       "      <th>date</th>\n",
       "      <th>sum_click</th>\n",
       "    </tr>\n",
       "  </thead>\n",
       "  <tbody>\n",
       "    <tr>\n",
       "      <th>count</th>\n",
       "      <td>1.065528e+07</td>\n",
       "      <td>1.065528e+07</td>\n",
       "      <td>1.065528e+07</td>\n",
       "      <td>1.065528e+07</td>\n",
       "    </tr>\n",
       "    <tr>\n",
       "      <th>mean</th>\n",
       "      <td>7.333336e+05</td>\n",
       "      <td>7.383234e+05</td>\n",
       "      <td>9.517400e+01</td>\n",
       "      <td>3.716946e+00</td>\n",
       "    </tr>\n",
       "    <tr>\n",
       "      <th>std</th>\n",
       "      <td>5.827060e+05</td>\n",
       "      <td>1.312196e+05</td>\n",
       "      <td>7.607130e+01</td>\n",
       "      <td>8.849047e+00</td>\n",
       "    </tr>\n",
       "    <tr>\n",
       "      <th>min</th>\n",
       "      <td>6.516000e+03</td>\n",
       "      <td>5.267210e+05</td>\n",
       "      <td>-2.500000e+01</td>\n",
       "      <td>1.000000e+00</td>\n",
       "    </tr>\n",
       "    <tr>\n",
       "      <th>25%</th>\n",
       "      <td>5.077430e+05</td>\n",
       "      <td>6.735190e+05</td>\n",
       "      <td>2.500000e+01</td>\n",
       "      <td>1.000000e+00</td>\n",
       "    </tr>\n",
       "    <tr>\n",
       "      <th>50%</th>\n",
       "      <td>5.882360e+05</td>\n",
       "      <td>7.300690e+05</td>\n",
       "      <td>8.600000e+01</td>\n",
       "      <td>2.000000e+00</td>\n",
       "    </tr>\n",
       "    <tr>\n",
       "      <th>75%</th>\n",
       "      <td>6.464840e+05</td>\n",
       "      <td>8.770300e+05</td>\n",
       "      <td>1.560000e+02</td>\n",
       "      <td>3.000000e+00</td>\n",
       "    </tr>\n",
       "    <tr>\n",
       "      <th>max</th>\n",
       "      <td>2.698588e+06</td>\n",
       "      <td>1.049562e+06</td>\n",
       "      <td>2.690000e+02</td>\n",
       "      <td>6.977000e+03</td>\n",
       "    </tr>\n",
       "  </tbody>\n",
       "</table>\n",
       "</div>"
      ],
      "text/plain": [
       "         id_student       id_site          date     sum_click\n",
       "count  1.065528e+07  1.065528e+07  1.065528e+07  1.065528e+07\n",
       "mean   7.333336e+05  7.383234e+05  9.517400e+01  3.716946e+00\n",
       "std    5.827060e+05  1.312196e+05  7.607130e+01  8.849047e+00\n",
       "min    6.516000e+03  5.267210e+05 -2.500000e+01  1.000000e+00\n",
       "25%    5.077430e+05  6.735190e+05  2.500000e+01  1.000000e+00\n",
       "50%    5.882360e+05  7.300690e+05  8.600000e+01  2.000000e+00\n",
       "75%    6.464840e+05  8.770300e+05  1.560000e+02  3.000000e+00\n",
       "max    2.698588e+06  1.049562e+06  2.690000e+02  6.977000e+03"
      ]
     },
     "execution_count": 22,
     "metadata": {},
     "output_type": "execute_result"
    }
   ],
   "source": [
    "df2.describe()\n",
    "#No there are null values"
   ]
  },
  {
   "cell_type": "code",
   "execution_count": 40,
   "metadata": {},
   "outputs": [],
   "source": [
    "#join the two dataframes from the base (the two columns that have equal ->id_student)\n",
    "df3 = [df1_final, df2]\n",
    "df_final=pd.concat(data)"
   ]
  },
  {
   "cell_type": "code",
   "execution_count": 41,
   "metadata": {},
   "outputs": [
    {
     "data": {
      "text/plain": [
       "(10829192, 11)"
      ]
     },
     "execution_count": 41,
     "metadata": {},
     "output_type": "execute_result"
    }
   ],
   "source": [
    "df_final.shape"
   ]
  },
  {
   "cell_type": "code",
   "execution_count": 42,
   "metadata": {},
   "outputs": [
    {
     "data": {
      "text/html": [
       "<div>\n",
       "<style scoped>\n",
       "    .dataframe tbody tr th:only-of-type {\n",
       "        vertical-align: middle;\n",
       "    }\n",
       "\n",
       "    .dataframe tbody tr th {\n",
       "        vertical-align: top;\n",
       "    }\n",
       "\n",
       "    .dataframe thead th {\n",
       "        text-align: right;\n",
       "    }\n",
       "</style>\n",
       "<table border=\"1\" class=\"dataframe\">\n",
       "  <thead>\n",
       "    <tr style=\"text-align: right;\">\n",
       "      <th></th>\n",
       "      <th>id_assessment</th>\n",
       "      <th>id_student</th>\n",
       "      <th>date_submitted</th>\n",
       "      <th>is_banked</th>\n",
       "      <th>score</th>\n",
       "      <th>Approved</th>\n",
       "      <th>id_site</th>\n",
       "      <th>date</th>\n",
       "      <th>sum_click</th>\n",
       "    </tr>\n",
       "  </thead>\n",
       "  <tbody>\n",
       "    <tr>\n",
       "      <th>count</th>\n",
       "      <td>173912.000000</td>\n",
       "      <td>1.082919e+07</td>\n",
       "      <td>173912.000000</td>\n",
       "      <td>173912.000000</td>\n",
       "      <td>173912.000000</td>\n",
       "      <td>173912.000000</td>\n",
       "      <td>1.065528e+07</td>\n",
       "      <td>1.065528e+07</td>\n",
       "      <td>1.065528e+07</td>\n",
       "    </tr>\n",
       "    <tr>\n",
       "      <th>mean</th>\n",
       "      <td>26553.803556</td>\n",
       "      <td>7.328810e+05</td>\n",
       "      <td>116.032942</td>\n",
       "      <td>0.010977</td>\n",
       "      <td>75.724171</td>\n",
       "      <td>0.992594</td>\n",
       "      <td>7.383234e+05</td>\n",
       "      <td>9.517400e+01</td>\n",
       "      <td>3.716946e+00</td>\n",
       "    </tr>\n",
       "    <tr>\n",
       "      <th>std</th>\n",
       "      <td>8829.784254</td>\n",
       "      <td>5.822424e+05</td>\n",
       "      <td>71.484148</td>\n",
       "      <td>0.104194</td>\n",
       "      <td>18.940093</td>\n",
       "      <td>0.085739</td>\n",
       "      <td>1.312196e+05</td>\n",
       "      <td>7.607130e+01</td>\n",
       "      <td>8.849047e+00</td>\n",
       "    </tr>\n",
       "    <tr>\n",
       "      <th>min</th>\n",
       "      <td>1752.000000</td>\n",
       "      <td>6.516000e+03</td>\n",
       "      <td>-11.000000</td>\n",
       "      <td>0.000000</td>\n",
       "      <td>0.000000</td>\n",
       "      <td>0.000000</td>\n",
       "      <td>5.267210e+05</td>\n",
       "      <td>-2.500000e+01</td>\n",
       "      <td>1.000000e+00</td>\n",
       "    </tr>\n",
       "    <tr>\n",
       "      <th>25%</th>\n",
       "      <td>15022.000000</td>\n",
       "      <td>5.075760e+05</td>\n",
       "      <td>51.000000</td>\n",
       "      <td>0.000000</td>\n",
       "      <td>65.000000</td>\n",
       "      <td>1.000000</td>\n",
       "      <td>6.735190e+05</td>\n",
       "      <td>2.500000e+01</td>\n",
       "      <td>1.000000e+00</td>\n",
       "    </tr>\n",
       "    <tr>\n",
       "      <th>50%</th>\n",
       "      <td>25359.000000</td>\n",
       "      <td>5.882070e+05</td>\n",
       "      <td>116.000000</td>\n",
       "      <td>0.000000</td>\n",
       "      <td>80.000000</td>\n",
       "      <td>1.000000</td>\n",
       "      <td>7.300690e+05</td>\n",
       "      <td>8.600000e+01</td>\n",
       "      <td>2.000000e+00</td>\n",
       "    </tr>\n",
       "    <tr>\n",
       "      <th>75%</th>\n",
       "      <td>34883.000000</td>\n",
       "      <td>6.463610e+05</td>\n",
       "      <td>173.000000</td>\n",
       "      <td>0.000000</td>\n",
       "      <td>90.000000</td>\n",
       "      <td>1.000000</td>\n",
       "      <td>8.770300e+05</td>\n",
       "      <td>1.560000e+02</td>\n",
       "      <td>3.000000e+00</td>\n",
       "    </tr>\n",
       "    <tr>\n",
       "      <th>max</th>\n",
       "      <td>37443.000000</td>\n",
       "      <td>2.698588e+06</td>\n",
       "      <td>608.000000</td>\n",
       "      <td>1.000000</td>\n",
       "      <td>100.000000</td>\n",
       "      <td>1.000000</td>\n",
       "      <td>1.049562e+06</td>\n",
       "      <td>2.690000e+02</td>\n",
       "      <td>6.977000e+03</td>\n",
       "    </tr>\n",
       "  </tbody>\n",
       "</table>\n",
       "</div>"
      ],
      "text/plain": [
       "       id_assessment    id_student  date_submitted      is_banked  \\\n",
       "count  173912.000000  1.082919e+07   173912.000000  173912.000000   \n",
       "mean    26553.803556  7.328810e+05      116.032942       0.010977   \n",
       "std      8829.784254  5.822424e+05       71.484148       0.104194   \n",
       "min      1752.000000  6.516000e+03      -11.000000       0.000000   \n",
       "25%     15022.000000  5.075760e+05       51.000000       0.000000   \n",
       "50%     25359.000000  5.882070e+05      116.000000       0.000000   \n",
       "75%     34883.000000  6.463610e+05      173.000000       0.000000   \n",
       "max     37443.000000  2.698588e+06      608.000000       1.000000   \n",
       "\n",
       "               score       Approved       id_site          date     sum_click  \n",
       "count  173912.000000  173912.000000  1.065528e+07  1.065528e+07  1.065528e+07  \n",
       "mean       75.724171       0.992594  7.383234e+05  9.517400e+01  3.716946e+00  \n",
       "std        18.940093       0.085739  1.312196e+05  7.607130e+01  8.849047e+00  \n",
       "min         0.000000       0.000000  5.267210e+05 -2.500000e+01  1.000000e+00  \n",
       "25%        65.000000       1.000000  6.735190e+05  2.500000e+01  1.000000e+00  \n",
       "50%        80.000000       1.000000  7.300690e+05  8.600000e+01  2.000000e+00  \n",
       "75%        90.000000       1.000000  8.770300e+05  1.560000e+02  3.000000e+00  \n",
       "max       100.000000       1.000000  1.049562e+06  2.690000e+02  6.977000e+03  "
      ]
     },
     "execution_count": 42,
     "metadata": {},
     "output_type": "execute_result"
    }
   ],
   "source": [
    "df_final.describe()"
   ]
  },
  {
   "cell_type": "code",
   "execution_count": 43,
   "metadata": {},
   "outputs": [
    {
     "name": "stdout",
     "output_type": "stream",
     "text": [
      "<class 'pandas.core.frame.DataFrame'>\n",
      "Int64Index: 10829192 entries, 0 to 10655279\n",
      "Data columns (total 11 columns):\n",
      " #   Column             Dtype  \n",
      "---  ------             -----  \n",
      " 0   id_assessment      float64\n",
      " 1   id_student         int64  \n",
      " 2   date_submitted     float64\n",
      " 3   is_banked          float64\n",
      " 4   score              float64\n",
      " 5   Approved           float64\n",
      " 6   code_module        object \n",
      " 7   code_presentation  object \n",
      " 8   id_site            float64\n",
      " 9   date               float64\n",
      " 10  sum_click          float64\n",
      "dtypes: float64(8), int64(1), object(2)\n",
      "memory usage: 991.4+ MB\n"
     ]
    }
   ],
   "source": [
    "df_final.info()"
   ]
  },
  {
   "cell_type": "code",
   "execution_count": 44,
   "metadata": {},
   "outputs": [
    {
     "data": {
      "text/plain": [
       "Series([], Name: id_student, dtype: int64)"
      ]
     },
     "execution_count": 44,
     "metadata": {},
     "output_type": "execute_result"
    }
   ],
   "source": [
    "df_final.groupby(['Approved', 'sum_click' ]).count()['id_student']\n"
   ]
  },
  {
   "cell_type": "code",
   "execution_count": 87,
   "metadata": {},
   "outputs": [],
   "source": [
    "\n",
    "df3 = {\"score:\": -1.0,\"Approved\": -1.0}\n",
    "\n",
    "df_final = df_final.fillna(nan_replacements)\n",
    "#if these values have -1, it means that there are no values studied about those students.\n",
    "\n"
   ]
  },
  {
   "cell_type": "code",
   "execution_count": 65,
   "metadata": {},
   "outputs": [
    {
     "data": {
      "text/html": [
       "<div>\n",
       "<style scoped>\n",
       "    .dataframe tbody tr th:only-of-type {\n",
       "        vertical-align: middle;\n",
       "    }\n",
       "\n",
       "    .dataframe tbody tr th {\n",
       "        vertical-align: top;\n",
       "    }\n",
       "\n",
       "    .dataframe thead th {\n",
       "        text-align: right;\n",
       "    }\n",
       "</style>\n",
       "<table border=\"1\" class=\"dataframe\">\n",
       "  <thead>\n",
       "    <tr style=\"text-align: right;\">\n",
       "      <th></th>\n",
       "      <th>id_assessment</th>\n",
       "      <th>id_student</th>\n",
       "      <th>date_submitted</th>\n",
       "      <th>is_banked</th>\n",
       "      <th>score</th>\n",
       "      <th>Approved</th>\n",
       "      <th>id_site</th>\n",
       "      <th>date</th>\n",
       "      <th>sum_click</th>\n",
       "    </tr>\n",
       "  </thead>\n",
       "  <tbody>\n",
       "    <tr>\n",
       "      <th>count</th>\n",
       "      <td>173912.000000</td>\n",
       "      <td>1.082919e+07</td>\n",
       "      <td>173912.000000</td>\n",
       "      <td>173912.000000</td>\n",
       "      <td>1.082919e+07</td>\n",
       "      <td>173912.000000</td>\n",
       "      <td>1.065528e+07</td>\n",
       "      <td>1.065528e+07</td>\n",
       "      <td>1.065528e+07</td>\n",
       "    </tr>\n",
       "    <tr>\n",
       "      <th>mean</th>\n",
       "      <td>26553.803556</td>\n",
       "      <td>7.328810e+05</td>\n",
       "      <td>116.032942</td>\n",
       "      <td>0.010977</td>\n",
       "      <td>1.216096e+00</td>\n",
       "      <td>0.992594</td>\n",
       "      <td>7.383234e+05</td>\n",
       "      <td>9.517400e+01</td>\n",
       "      <td>3.716946e+00</td>\n",
       "    </tr>\n",
       "    <tr>\n",
       "      <th>std</th>\n",
       "      <td>8829.784254</td>\n",
       "      <td>5.822424e+05</td>\n",
       "      <td>71.484148</td>\n",
       "      <td>0.104194</td>\n",
       "      <td>9.816821e+00</td>\n",
       "      <td>0.085739</td>\n",
       "      <td>1.312196e+05</td>\n",
       "      <td>7.607130e+01</td>\n",
       "      <td>8.849047e+00</td>\n",
       "    </tr>\n",
       "    <tr>\n",
       "      <th>min</th>\n",
       "      <td>1752.000000</td>\n",
       "      <td>6.516000e+03</td>\n",
       "      <td>-11.000000</td>\n",
       "      <td>0.000000</td>\n",
       "      <td>0.000000e+00</td>\n",
       "      <td>0.000000</td>\n",
       "      <td>5.267210e+05</td>\n",
       "      <td>-2.500000e+01</td>\n",
       "      <td>1.000000e+00</td>\n",
       "    </tr>\n",
       "    <tr>\n",
       "      <th>25%</th>\n",
       "      <td>15022.000000</td>\n",
       "      <td>5.075760e+05</td>\n",
       "      <td>51.000000</td>\n",
       "      <td>0.000000</td>\n",
       "      <td>0.000000e+00</td>\n",
       "      <td>1.000000</td>\n",
       "      <td>6.735190e+05</td>\n",
       "      <td>2.500000e+01</td>\n",
       "      <td>1.000000e+00</td>\n",
       "    </tr>\n",
       "    <tr>\n",
       "      <th>50%</th>\n",
       "      <td>25359.000000</td>\n",
       "      <td>5.882070e+05</td>\n",
       "      <td>116.000000</td>\n",
       "      <td>0.000000</td>\n",
       "      <td>0.000000e+00</td>\n",
       "      <td>1.000000</td>\n",
       "      <td>7.300690e+05</td>\n",
       "      <td>8.600000e+01</td>\n",
       "      <td>2.000000e+00</td>\n",
       "    </tr>\n",
       "    <tr>\n",
       "      <th>75%</th>\n",
       "      <td>34883.000000</td>\n",
       "      <td>6.463610e+05</td>\n",
       "      <td>173.000000</td>\n",
       "      <td>0.000000</td>\n",
       "      <td>0.000000e+00</td>\n",
       "      <td>1.000000</td>\n",
       "      <td>8.770300e+05</td>\n",
       "      <td>1.560000e+02</td>\n",
       "      <td>3.000000e+00</td>\n",
       "    </tr>\n",
       "    <tr>\n",
       "      <th>max</th>\n",
       "      <td>37443.000000</td>\n",
       "      <td>2.698588e+06</td>\n",
       "      <td>608.000000</td>\n",
       "      <td>1.000000</td>\n",
       "      <td>1.000000e+02</td>\n",
       "      <td>1.000000</td>\n",
       "      <td>1.049562e+06</td>\n",
       "      <td>2.690000e+02</td>\n",
       "      <td>6.977000e+03</td>\n",
       "    </tr>\n",
       "  </tbody>\n",
       "</table>\n",
       "</div>"
      ],
      "text/plain": [
       "       id_assessment    id_student  date_submitted      is_banked  \\\n",
       "count  173912.000000  1.082919e+07   173912.000000  173912.000000   \n",
       "mean    26553.803556  7.328810e+05      116.032942       0.010977   \n",
       "std      8829.784254  5.822424e+05       71.484148       0.104194   \n",
       "min      1752.000000  6.516000e+03      -11.000000       0.000000   \n",
       "25%     15022.000000  5.075760e+05       51.000000       0.000000   \n",
       "50%     25359.000000  5.882070e+05      116.000000       0.000000   \n",
       "75%     34883.000000  6.463610e+05      173.000000       0.000000   \n",
       "max     37443.000000  2.698588e+06      608.000000       1.000000   \n",
       "\n",
       "              score       Approved       id_site          date     sum_click  \n",
       "count  1.082919e+07  173912.000000  1.065528e+07  1.065528e+07  1.065528e+07  \n",
       "mean   1.216096e+00       0.992594  7.383234e+05  9.517400e+01  3.716946e+00  \n",
       "std    9.816821e+00       0.085739  1.312196e+05  7.607130e+01  8.849047e+00  \n",
       "min    0.000000e+00       0.000000  5.267210e+05 -2.500000e+01  1.000000e+00  \n",
       "25%    0.000000e+00       1.000000  6.735190e+05  2.500000e+01  1.000000e+00  \n",
       "50%    0.000000e+00       1.000000  7.300690e+05  8.600000e+01  2.000000e+00  \n",
       "75%    0.000000e+00       1.000000  8.770300e+05  1.560000e+02  3.000000e+00  \n",
       "max    1.000000e+02       1.000000  1.049562e+06  2.690000e+02  6.977000e+03  "
      ]
     },
     "execution_count": 65,
     "metadata": {},
     "output_type": "execute_result"
    }
   ],
   "source": [
    "df_final.describe()"
   ]
  },
  {
   "cell_type": "code",
   "execution_count": 66,
   "metadata": {},
   "outputs": [
    {
     "data": {
      "text/plain": [
       "score  sum_click\n",
       "0.0    1.0          5113910\n",
       "       2.0          1929023\n",
       "       3.0           965277\n",
       "       4.0           612858\n",
       "       5.0           415139\n",
       "                     ...   \n",
       "       3958.0             1\n",
       "       4098.0             1\n",
       "       4523.0             1\n",
       "       4953.0             1\n",
       "       6977.0             1\n",
       "Name: id_student, Length: 498, dtype: int64"
      ]
     },
     "execution_count": 66,
     "metadata": {},
     "output_type": "execute_result"
    }
   ],
   "source": [
    "df_final.groupby(['score', 'sum_click' ]).count()['id_student']"
   ]
  },
  {
   "cell_type": "code",
   "execution_count": 69,
   "metadata": {},
   "outputs": [
    {
     "data": {
      "text/plain": [
       "1.0    172624\n",
       "0.0      1288\n",
       "Name: Approved, dtype: int64"
      ]
     },
     "execution_count": 69,
     "metadata": {},
     "output_type": "execute_result"
    }
   ],
   "source": [
    "df_final[\"Approved\"].value_counts()"
   ]
  },
  {
   "cell_type": "code",
   "execution_count": 70,
   "metadata": {},
   "outputs": [
    {
     "data": {
      "text/html": [
       "<div>\n",
       "<style scoped>\n",
       "    .dataframe tbody tr th:only-of-type {\n",
       "        vertical-align: middle;\n",
       "    }\n",
       "\n",
       "    .dataframe tbody tr th {\n",
       "        vertical-align: top;\n",
       "    }\n",
       "\n",
       "    .dataframe thead th {\n",
       "        text-align: right;\n",
       "    }\n",
       "</style>\n",
       "<table border=\"1\" class=\"dataframe\">\n",
       "  <thead>\n",
       "    <tr style=\"text-align: right;\">\n",
       "      <th></th>\n",
       "      <th>count</th>\n",
       "      <th>mean</th>\n",
       "      <th>std</th>\n",
       "      <th>min</th>\n",
       "      <th>25%</th>\n",
       "      <th>50%</th>\n",
       "      <th>75%</th>\n",
       "      <th>max</th>\n",
       "    </tr>\n",
       "    <tr>\n",
       "      <th>Approved</th>\n",
       "      <th></th>\n",
       "      <th></th>\n",
       "      <th></th>\n",
       "      <th></th>\n",
       "      <th></th>\n",
       "      <th></th>\n",
       "      <th></th>\n",
       "      <th></th>\n",
       "    </tr>\n",
       "  </thead>\n",
       "  <tbody>\n",
       "    <tr>\n",
       "      <th>0.0</th>\n",
       "      <td>1288.0</td>\n",
       "      <td>667573.770186</td>\n",
       "      <td>462727.821160</td>\n",
       "      <td>26315.0</td>\n",
       "      <td>532341.25</td>\n",
       "      <td>611619.5</td>\n",
       "      <td>675776.5</td>\n",
       "      <td>2687858.0</td>\n",
       "    </tr>\n",
       "    <tr>\n",
       "      <th>1.0</th>\n",
       "      <td>172624.0</td>\n",
       "      <td>705431.090219</td>\n",
       "      <td>553001.112456</td>\n",
       "      <td>6516.0</td>\n",
       "      <td>504251.00</td>\n",
       "      <td>585134.0</td>\n",
       "      <td>634383.0</td>\n",
       "      <td>2698588.0</td>\n",
       "    </tr>\n",
       "  </tbody>\n",
       "</table>\n",
       "</div>"
      ],
      "text/plain": [
       "             count           mean            std      min        25%  \\\n",
       "Approved                                                               \n",
       "0.0         1288.0  667573.770186  462727.821160  26315.0  532341.25   \n",
       "1.0       172624.0  705431.090219  553001.112456   6516.0  504251.00   \n",
       "\n",
       "               50%       75%        max  \n",
       "Approved                                 \n",
       "0.0       611619.5  675776.5  2687858.0  \n",
       "1.0       585134.0  634383.0  2698588.0  "
      ]
     },
     "execution_count": 70,
     "metadata": {},
     "output_type": "execute_result"
    }
   ],
   "source": [
    "df_final.groupby(\"Approved\")[\"id_student\"].describe()\n",
    "#study behavior of the variable approved that is the one that interests us"
   ]
  },
  {
   "cell_type": "code",
   "execution_count": 73,
   "metadata": {},
   "outputs": [
    {
     "data": {
      "text/html": [
       "<div>\n",
       "<style scoped>\n",
       "    .dataframe tbody tr th:only-of-type {\n",
       "        vertical-align: middle;\n",
       "    }\n",
       "\n",
       "    .dataframe tbody tr th {\n",
       "        vertical-align: top;\n",
       "    }\n",
       "\n",
       "    .dataframe thead th {\n",
       "        text-align: right;\n",
       "    }\n",
       "</style>\n",
       "<table border=\"1\" class=\"dataframe\">\n",
       "  <thead>\n",
       "    <tr style=\"text-align: right;\">\n",
       "      <th></th>\n",
       "      <th>count</th>\n",
       "      <th>mean</th>\n",
       "      <th>std</th>\n",
       "      <th>min</th>\n",
       "      <th>25%</th>\n",
       "      <th>50%</th>\n",
       "      <th>75%</th>\n",
       "      <th>max</th>\n",
       "    </tr>\n",
       "    <tr>\n",
       "      <th>id_assessment</th>\n",
       "      <th></th>\n",
       "      <th></th>\n",
       "      <th></th>\n",
       "      <th></th>\n",
       "      <th></th>\n",
       "      <th></th>\n",
       "      <th></th>\n",
       "      <th></th>\n",
       "    </tr>\n",
       "  </thead>\n",
       "  <tbody>\n",
       "    <tr>\n",
       "      <th>1752.0</th>\n",
       "      <td>359.0</td>\n",
       "      <td>0.997214</td>\n",
       "      <td>0.052778</td>\n",
       "      <td>0.0</td>\n",
       "      <td>1.0</td>\n",
       "      <td>1.0</td>\n",
       "      <td>1.0</td>\n",
       "      <td>1.0</td>\n",
       "    </tr>\n",
       "    <tr>\n",
       "      <th>1753.0</th>\n",
       "      <td>342.0</td>\n",
       "      <td>1.000000</td>\n",
       "      <td>0.000000</td>\n",
       "      <td>1.0</td>\n",
       "      <td>1.0</td>\n",
       "      <td>1.0</td>\n",
       "      <td>1.0</td>\n",
       "      <td>1.0</td>\n",
       "    </tr>\n",
       "    <tr>\n",
       "      <th>1754.0</th>\n",
       "      <td>331.0</td>\n",
       "      <td>0.993958</td>\n",
       "      <td>0.077614</td>\n",
       "      <td>0.0</td>\n",
       "      <td>1.0</td>\n",
       "      <td>1.0</td>\n",
       "      <td>1.0</td>\n",
       "      <td>1.0</td>\n",
       "    </tr>\n",
       "    <tr>\n",
       "      <th>1755.0</th>\n",
       "      <td>303.0</td>\n",
       "      <td>1.000000</td>\n",
       "      <td>0.000000</td>\n",
       "      <td>1.0</td>\n",
       "      <td>1.0</td>\n",
       "      <td>1.0</td>\n",
       "      <td>1.0</td>\n",
       "      <td>1.0</td>\n",
       "    </tr>\n",
       "    <tr>\n",
       "      <th>1756.0</th>\n",
       "      <td>298.0</td>\n",
       "      <td>1.000000</td>\n",
       "      <td>0.000000</td>\n",
       "      <td>1.0</td>\n",
       "      <td>1.0</td>\n",
       "      <td>1.0</td>\n",
       "      <td>1.0</td>\n",
       "      <td>1.0</td>\n",
       "    </tr>\n",
       "    <tr>\n",
       "      <th>...</th>\n",
       "      <td>...</td>\n",
       "      <td>...</td>\n",
       "      <td>...</td>\n",
       "      <td>...</td>\n",
       "      <td>...</td>\n",
       "      <td>...</td>\n",
       "      <td>...</td>\n",
       "      <td>...</td>\n",
       "    </tr>\n",
       "    <tr>\n",
       "      <th>37439.0</th>\n",
       "      <td>504.0</td>\n",
       "      <td>1.000000</td>\n",
       "      <td>0.000000</td>\n",
       "      <td>1.0</td>\n",
       "      <td>1.0</td>\n",
       "      <td>1.0</td>\n",
       "      <td>1.0</td>\n",
       "      <td>1.0</td>\n",
       "    </tr>\n",
       "    <tr>\n",
       "      <th>37440.0</th>\n",
       "      <td>479.0</td>\n",
       "      <td>0.997912</td>\n",
       "      <td>0.045691</td>\n",
       "      <td>0.0</td>\n",
       "      <td>1.0</td>\n",
       "      <td>1.0</td>\n",
       "      <td>1.0</td>\n",
       "      <td>1.0</td>\n",
       "    </tr>\n",
       "    <tr>\n",
       "      <th>37441.0</th>\n",
       "      <td>473.0</td>\n",
       "      <td>0.997886</td>\n",
       "      <td>0.045980</td>\n",
       "      <td>0.0</td>\n",
       "      <td>1.0</td>\n",
       "      <td>1.0</td>\n",
       "      <td>1.0</td>\n",
       "      <td>1.0</td>\n",
       "    </tr>\n",
       "    <tr>\n",
       "      <th>37442.0</th>\n",
       "      <td>416.0</td>\n",
       "      <td>0.975962</td>\n",
       "      <td>0.153353</td>\n",
       "      <td>0.0</td>\n",
       "      <td>1.0</td>\n",
       "      <td>1.0</td>\n",
       "      <td>1.0</td>\n",
       "      <td>1.0</td>\n",
       "    </tr>\n",
       "    <tr>\n",
       "      <th>37443.0</th>\n",
       "      <td>344.0</td>\n",
       "      <td>0.985465</td>\n",
       "      <td>0.119856</td>\n",
       "      <td>0.0</td>\n",
       "      <td>1.0</td>\n",
       "      <td>1.0</td>\n",
       "      <td>1.0</td>\n",
       "      <td>1.0</td>\n",
       "    </tr>\n",
       "  </tbody>\n",
       "</table>\n",
       "<p>188 rows × 8 columns</p>\n",
       "</div>"
      ],
      "text/plain": [
       "               count      mean       std  min  25%  50%  75%  max\n",
       "id_assessment                                                    \n",
       "1752.0         359.0  0.997214  0.052778  0.0  1.0  1.0  1.0  1.0\n",
       "1753.0         342.0  1.000000  0.000000  1.0  1.0  1.0  1.0  1.0\n",
       "1754.0         331.0  0.993958  0.077614  0.0  1.0  1.0  1.0  1.0\n",
       "1755.0         303.0  1.000000  0.000000  1.0  1.0  1.0  1.0  1.0\n",
       "1756.0         298.0  1.000000  0.000000  1.0  1.0  1.0  1.0  1.0\n",
       "...              ...       ...       ...  ...  ...  ...  ...  ...\n",
       "37439.0        504.0  1.000000  0.000000  1.0  1.0  1.0  1.0  1.0\n",
       "37440.0        479.0  0.997912  0.045691  0.0  1.0  1.0  1.0  1.0\n",
       "37441.0        473.0  0.997886  0.045980  0.0  1.0  1.0  1.0  1.0\n",
       "37442.0        416.0  0.975962  0.153353  0.0  1.0  1.0  1.0  1.0\n",
       "37443.0        344.0  0.985465  0.119856  0.0  1.0  1.0  1.0  1.0\n",
       "\n",
       "[188 rows x 8 columns]"
      ]
     },
     "execution_count": 73,
     "metadata": {},
     "output_type": "execute_result"
    }
   ],
   "source": [
    "df_final.groupby(\"id_assessment\")[\"Approved\"].describe()\n",
    "#Statistics of home one of the subjects according to its number of passes/failures"
   ]
  },
  {
   "cell_type": "code",
   "execution_count": 83,
   "metadata": {},
   "outputs": [
    {
     "data": {
      "text/plain": [
       "Series([], Name: id_student, dtype: int64)"
      ]
     },
     "execution_count": 83,
     "metadata": {},
     "output_type": "execute_result"
    }
   ],
   "source": [
    "\n",
    "df_final.groupby(['Approved', 'sum_click' ]).count()['id_student']\n"
   ]
  },
  {
   "cell_type": "code",
   "execution_count": 89,
   "metadata": {},
   "outputs": [
    {
     "name": "stdout",
     "output_type": "stream",
     "text": [
      "score  sum_click\n",
      "0.0    1.0          5113910\n",
      "       2.0          1929023\n",
      "       3.0           965277\n",
      "       4.0           612858\n",
      "       5.0           415139\n",
      "                     ...   \n",
      "       3958.0             1\n",
      "       4098.0             1\n",
      "       4523.0             1\n",
      "       4953.0             1\n",
      "       6977.0             1\n",
      "Name: id_student, Length: 498, dtype: int64\n"
     ]
    },
    {
     "data": {
      "image/png": "[encoded data removed]",
      "text/plain": [
       "<Figure size 640x480 with 1 Axes>"
      ]
     },
     "metadata": {},
     "output_type": "display_data"
    }
   ],
   "source": [
    "#relacionar mediante una grafica las dos variables a estudiar: score y sum_click mediante el id_student\n",
    "grouped_student = df_final.groupby(['score', 'sum_click']).count()['id_student']\n",
    "print(grouped_student)\n",
    "(grouped_student.unstack(level=0).plot.bar())\n",
    "plt.show()\n"
   ]
  }
 ],
 "metadata": {
  "kernelspec": {
   "display_name": "Python 3.9.13 ('base')",
   "language": "python",
   "name": "python3"
  },
  "language_info": {
   "codemirror_mode": {
    "name": "ipython",
    "version": 3
   },
   "file_extension": ".py",
   "mimetype": "text/x-python",
   "name": "python",
   "nbconvert_exporter": "python",
   "pygments_lexer": "ipython3",
   "version": "3.9.13"
  },
  "orig_nbformat": 4,
  "vscode": {
   "interpreter": {
    "hash": "b5a61cb56cdb53b7411d54f915546cd7b89c41ee4f782f25d57cc2064d39d1d7"
   }
  }
 },
 "nbformat": 4,
 "nbformat_minor": 2
}
