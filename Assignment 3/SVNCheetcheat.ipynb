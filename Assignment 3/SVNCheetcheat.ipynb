{
 "cells": [
  {
   "cell_type": "markdown",
   "id": "bcd246a4",
   "metadata": {},
   "source": [
    "[![Watch the video](https://i.ytimg.com/vi/efR1C6CvhmE/maxresdefault.jpg)](https://www.youtube.com/watch?v=efR1C6CvhmE)\n",
    "\n",
    "\n",
    "# Hieronder een samenvatting van deze video\n"
   ]
  },
  {
   "cell_type": "markdown",
   "id": "a86ddb76",
   "metadata": {},
   "source": [
    "# What is SVN? \n",
    "\n",
    "\n",
    "## How does it work \n",
    "\n",
    "\n",
    "![alt text](./images/SVN26.png)\n",
    "\n",
    "\n",
    "\n"
   ]
  },
  {
   "cell_type": "markdown",
   "id": "2e50ef14",
   "metadata": {},
   "source": [
    "#### Suppose, we have this 1 dimensional graph Green: obese people Red: not obese people\n",
    "\n",
    "#### If we would simply use the line above as a treshold we would run into problems. Because the green dot is now classified as obese. This does not make sense because it is way closer to the red lines. "
   ]
  },
  {
   "cell_type": "markdown",
   "id": "3dd387f4",
   "metadata": {},
   "source": [
    "![alt text](./images/SVN25.png)"
   ]
  },
  {
   "cell_type": "markdown",
   "id": "426792c7",
   "metadata": {},
   "source": []
  },
  {
   "cell_type": "markdown",
   "id": "b80f79c0",
   "metadata": {},
   "source": [
    "![alt text](./images/SVN24.png)"
   ]
  },
  {
   "cell_type": "markdown",
   "id": "6acff665",
   "metadata": {},
   "source": [
    "#### We could find the middle point between the 2 endpoints, and use this as a treshold\n",
    "#### margin: The shortest distance between the observations and the treshold, is called margins.  (red en green dotted lines above) If we move the treshold more to the left or right, the smallest possible distance will obviously become smaller. so the margin will be at its largest if its in the middle.\n",
    "#### Maximal Margin Classifier: Threshold that gives us the largest margin.\n",
    "\n"
   ]
  },
  {
   "cell_type": "markdown",
   "id": "2fd0e6b9",
   "metadata": {},
   "source": [
    "![alt text](./images/SVN23.png)"
   ]
  },
  {
   "cell_type": "markdown",
   "id": "df2ba141",
   "metadata": {},
   "source": [
    "![alt text](./images/SVN22.png)"
   ]
  },
  {
   "cell_type": "markdown",
   "id": "edb1f7f8",
   "metadata": {},
   "source": [
    "![alt text](./images/SVN21.png)"
   ]
  },
  {
   "cell_type": "markdown",
   "id": "6564911d",
   "metadata": {},
   "source": [
    "#### If we would allow \"soft margins\" this problem would be solved. We no longer determine the treshold on solely the edge points. But we use a treshold that would make the most sense. We could use cross validation for that (Dont understand how that would work) here is a vid about crossvalidation tho (https://www.youtube.com/watch?v=fSytzGwwBVw&t=119s)"
   ]
  },
  {
   "cell_type": "markdown",
   "id": "6bc0ccbb",
   "metadata": {},
   "source": [
    "![alt text](./images/SVN20.png)"
   ]
  },
  {
   "cell_type": "markdown",
   "id": "78088f42",
   "metadata": {},
   "source": [
    "![alt text](./images/SVN19.png)"
   ]
  },
  {
   "cell_type": "markdown",
   "id": "c81a2ad1",
   "metadata": {},
   "source": [
    "![alt text](./images/SVN17.png)"
   ]
  },
  {
   "cell_type": "markdown",
   "id": "4639c811",
   "metadata": {},
   "source": [
    "![alt text](./images/SVN18.png)"
   ]
  },
  {
   "cell_type": "markdown",
   "id": "545ef7ba",
   "metadata": {},
   "source": [
    "![alt text](./images/SVN16.png)"
   ]
  },
  {
   "cell_type": "markdown",
   "id": "51a9a34d",
   "metadata": {},
   "source": [
    "#### We still run into problems and that is overlapping classifications? There is no point where we could set Support vector classifier, so that we would not misclassify a lof of data. We need something new. "
   ]
  },
  {
   "cell_type": "markdown",
   "id": "cc9eebf9",
   "metadata": {},
   "source": [
    "![alt text](./images/SVN15.png)"
   ]
  },
  {
   "cell_type": "markdown",
   "id": "b1227b0a",
   "metadata": {},
   "source": [
    "#####  to solve this problem we need to do is move the data 1 Dimension up. To move data from 1 dimentsion to 2 dimensions we can simply square all points. "
   ]
  },
  {
   "cell_type": "markdown",
   "id": "2da10fa4",
   "metadata": {},
   "source": [
    "![alt text](./images/SVN14.png)"
   ]
  },
  {
   "cell_type": "markdown",
   "id": "8fdf9b16",
   "metadata": {},
   "source": [
    "![alt text](./images/SVN13.png)"
   ]
  },
  {
   "cell_type": "markdown",
   "id": "72c97275",
   "metadata": {},
   "source": [
    "![alt text](./images/SVN12.png)"
   ]
  },
  {
   "cell_type": "markdown",
   "id": "046a1456",
   "metadata": {},
   "source": [
    "![alt text](./images/SVN11.png)"
   ]
  },
  {
   "cell_type": "markdown",
   "id": "c5b287d5",
   "metadata": {},
   "source": [
    "![alt text](./images/SVN10.png)"
   ]
  },
  {
   "cell_type": "markdown",
   "id": "17c02df3",
   "metadata": {},
   "source": [
    "![alt text](./images/SVN9.png)"
   ]
  },
  {
   "cell_type": "markdown",
   "id": "5a87d7fe",
   "metadata": {},
   "source": [
    "![alt text](./images/SVN8.png)"
   ]
  },
  {
   "cell_type": "markdown",
   "id": "2ae697cb",
   "metadata": {},
   "source": [
    "![alt text](./images/SVN7.png)"
   ]
  },
  {
   "cell_type": "markdown",
   "id": "2a1e579e",
   "metadata": {},
   "source": [
    "![alt text](./images/SVN6.png)"
   ]
  },
  {
   "cell_type": "markdown",
   "id": "827f62d1",
   "metadata": {},
   "source": [
    "![alt text](./images/SVN5.png)"
   ]
  },
  {
   "cell_type": "markdown",
   "id": "7be65a92",
   "metadata": {},
   "source": [
    "![alt text](./images/SVN4.png)"
   ]
  },
  {
   "cell_type": "markdown",
   "id": "b30ac06a",
   "metadata": {},
   "source": [
    "![alt text](./images/SVN3.png)"
   ]
  },
  {
   "cell_type": "markdown",
   "id": "0211c55d",
   "metadata": {},
   "source": [
    "![alt text](./images/HyperPlane.png)"
   ]
  },
  {
   "cell_type": "markdown",
   "id": "68ee63cd",
   "metadata": {},
   "source": [
    "#### What is a hyperplane in context of SVN: A hyperplane is a decision boundary that differentiates the two classes in SVM."
   ]
  },
  {
   "cell_type": "markdown",
   "id": "9e8a7218",
   "metadata": {},
   "source": [
    "### Ok so here are some questions to see if you grasp the material! \n",
    "\n",
    "1) Suppose we have this 1-dimensional graph \n",
    " \n",
    " [R,R,R, , | , , , ,G,G,G,G]\n",
    "  \n",
    "  R: Red ball,\n",
    "  G: Green ball,\n",
    "  |: classifier,\n",
    "  \n",
    "  * what is the margin?\n",
    "  * where is the Maximal Margin Classifier?\n",
    "  \n",
    "2) If my data is 2 dimensional what is the shape of my hyperplane?\n",
    "\n",
    "3) Explain exactly how SVN handles these issues\n",
    " - outliers\n",
    " - missclassifications \n",
    " - overlapping classifications!\n",
    " \n",
    "4) In short how does suport vector work?\n",
    " \n",
    "ANSWER: SVN works by moving the data into a Relatively high deminsional space, and finding a Relatively high dimensional suport vector that can accurately classify the data. \n",
    "\n",
    "(The answer is for free cuz if you understand this answer, you grasp the concept)\n"
   ]
  },
  {
   "cell_type": "markdown",
   "id": "272fdff4",
   "metadata": {},
   "source": [
    "# SVN can handle\n",
    "\n",
    "* They can handle outliers\n",
    "* missclassifications \n",
    "* They can handle overlapping classifications!"
   ]
  }
 ],
 "metadata": {
  "kernelspec": {
   "display_name": "Python 3 (ipykernel)",
   "language": "python",
   "name": "python3"
  },
  "language_info": {
   "codemirror_mode": {
    "name": "ipython",
    "version": 3
   },
   "file_extension": ".py",
   "mimetype": "text/x-python",
   "name": "python",
   "nbconvert_exporter": "python",
   "pygments_lexer": "ipython3",
   "version": "3.9.12"
  }
 },
 "nbformat": 4,
 "nbformat_minor": 5
}
