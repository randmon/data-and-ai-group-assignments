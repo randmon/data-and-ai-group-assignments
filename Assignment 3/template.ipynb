{
 "cells": [
  {
   "cell_type": "code",
   "execution_count": 3,
   "metadata": {},
   "outputs": [],
   "source": [
    "# Load in the python modules\n",
    "import pandas as pd\n",
    "import numpy as np\n",
    "import matplotlib.pyplot as plt\n",
    "import seaborn as sns\n",
    "import plotly.express as px\n",
    "from scipy import stats\n",
    "from sklearn.preprocessing import LabelEncoder\n",
    "from sklearn.model_selection import train_test_split\n",
    "from sklearn.neighbors import KNeighborsClassifier\n",
    "from sklearn.linear_model import LinearRegression\n",
    "from sklearn.tree import DecisionTreeClassifier\n",
    "from sklearn.model_selection import cross_val_score\n",
    "from sklearn import tree\n",
    "\n",
    "import sklearn.metrics as metrics\n",
    "pd.options.display.float_format = '{:,.2f}'.format"
   ]
  },
  {
   "cell_type": "code",
   "execution_count": 4,
   "metadata": {},
   "outputs": [],
   "source": [
    "# Create the data frames\n",
    "student_info_df = pd.read_csv('data/studentInfo.csv')"
   ]
  },
  {
   "cell_type": "code",
   "execution_count": 5,
   "metadata": {},
   "outputs": [],
   "source": [
    "student_info_df.head(20)\n",
    "\n",
    "student_info_df.isnull().sum()\n",
    "\n",
    "student_info_df.dropna(subset=['imd_band'], inplace=True)\n",
    "student_info_df.reset_index(drop=True, inplace=True)\n",
    "# drop widthdrawn\n",
    "student_info_df = student_info_df[student_info_df.final_result != 'Withdrawn']\n",
    "\n",
    "student_info_df.head(30)\n",
    "\n",
    "\n",
    "y = student_info_df[['final_result']]\n",
    "# convert pass to 0 and fail to 1 and withdrawn to 2 and distinction to 3\n",
    "y = y.replace(['Pass', 'Fail'], [0, 1])\n",
    "\n",
    "\n",
    "# replace distinction with 0\n",
    "y = y.replace(['Distinction'], [0])\n",
    "\n",
    "# create a new data frame called x which might be used to predict the final result\n",
    "\n",
    "x = student_info_df.drop(['final_result', 'code_module', 'code_presentation', 'id_student'], axis=1)\n",
    "\n",
    "\n",
    "# convert the categorical data to numerical data for everything except studied_credits\n",
    "le = LabelEncoder()\n",
    "x['gender'] = le.fit_transform(x['gender'])\n",
    "x['disability'] = le.fit_transform(x['disability'])\n",
    "x['imd_band'] = le.fit_transform(x['imd_band'])\n",
    "x['age_band'] = le.fit_transform(x['age_band'])\n",
    "x['region'] = le.fit_transform(x['region'])\n",
    "x['highest_education'] = le.fit_transform(x['highest_education'])\n",
    "\n",
    "x_train, x_test, y_train, y_test = train_test_split(x, y, test_size=0.2, random_state=0)\n"
   ]
  }
 ],
 "metadata": {
  "kernelspec": {
   "display_name": "Python 3",
   "language": "python",
   "name": "python3"
  },
  "language_info": {
   "codemirror_mode": {
    "name": "ipython",
    "version": 3
   },
   "file_extension": ".py",
   "mimetype": "text/x-python",
   "name": "python",
   "nbconvert_exporter": "python",
   "pygments_lexer": "ipython3",
   "version": "3.10.9"
  },
  "orig_nbformat": 4,
  "vscode": {
   "interpreter": {
    "hash": "53af14ca73579f38fc35504d34bf3f508b7be4b24c212c3802f5823429636072"
   }
  }
 },
 "nbformat": 4,
 "nbformat_minor": 2
}
