{
 "cells": [
  {
   "attachments": {},
   "cell_type": "markdown",
   "id": "a86ddb76",
   "metadata": {},
   "source": [
    "# What is SVN? \n",
    "\n",
    "\n",
    "## How does it work \n",
    "(attachment:Schermafbeelding%202022-11-28%20om%2021.00.49.png)\n",
    "\n",
    "## Strongpoints \n",
    "\n",
    "### They can handle outliers ( they use soft margins)\n",
    "### They can't  handle overlapping classifications![Schermafbeelding%202022-11-28%20om%2021.00.49.png]\n",
    "\n",
    "## weakpoints\n"
   ]
  },
  {
   "cell_type": "code",
   "execution_count": null,
   "id": "e0a5441c",
   "metadata": {},
   "outputs": [],
   "source": []
  }
 ],
 "metadata": {
  "kernelspec": {
   "display_name": "Python 3 (ipykernel)",
   "language": "python",
   "name": "python3"
  },
  "language_info": {
   "codemirror_mode": {
    "name": "ipython",
    "version": 3
   },
   "file_extension": ".py",
   "mimetype": "text/x-python",
   "name": "python",
   "nbconvert_exporter": "python",
   "pygments_lexer": "ipython3",
   "version": "3.9.12"
  }
 },
 "nbformat": 4,
 "nbformat_minor": 5
}
