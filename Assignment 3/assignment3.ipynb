{
 "cells": [
  {
   "cell_type": "markdown",
   "metadata": {},
   "source": [
    "# Data and AI Assignment 3\n",
    "![UCLL logo](https://cdn.discordapp.com/attachments/1025724154852417549/1033683765530218506/unknown.png)\n",
    "\n",
    "Group\n",
    "- Astrid Piot\n",
    "- Catarina Rilho\n",
    "- Catarina Afonso\n",
    "- Cristina Marques\n",
    "- Greg François Reynders\n",
    "- Robbe Van de Velde\n",
    "- Rocío Pérez Holgado\n",
    "- Seppe Haems"
   ]
  },
  {
   "attachments": {},
   "cell_type": "markdown",
   "metadata": {},
   "source": [
    "## Foreword\n",
    "\n",
    "This notebook is intended to be presented to the stakeholders and people who don't necessarily have a technical background. Therefore, we will try to explain the concepts and the results in a simple way. For a more technical explanation of our modelling process, please refer to the [technical notebook](modelling.ipynb)."
   ]
  },
  {
   "attachments": {},
   "cell_type": "markdown",
   "metadata": {},
   "source": [
    "## Recap"
   ]
  },
  {
   "attachments": {},
   "cell_type": "markdown",
   "metadata": {},
   "source": [
    "Here is a recap of what we did in the previous assignment with the results we obtained and answers to the questions we asked."
   ]
  },
  {
   "attachments": {},
   "cell_type": "markdown",
   "metadata": {},
   "source": [
    "### Bussiness understanding\n",
    "---"
   ]
  },
  {
   "attachments": {},
   "cell_type": "markdown",
   "metadata": {},
   "source": [
    "\n",
    "#### 1) The business objectives \n",
    "\n",
    "A school wants to graduate as many high quality students as possible and have them occupy important positions in the workfield.<br/>\n",
    "This means keeping the standard of graduates high, while also passing a lot of students.<br/>\n",
    "Having talented students at their disposal makes this job easier.<br/>\n",
    "So a school needs to keep its reputation high, in order to convince talented students to apply, international students and local ones.<br/>\n",
    "A delicate balance between passing a lot of students, and keeping the bar high emerges.\n",
    "   \n",
    "#### 2) Assess situation: What needs to be done to get ready?\n",
    "      \n",
    "- Risk: we are not allowed to make decision's based on race, gender and disability.<br/>\n",
    "- To do: gather data about students and courses. <br/>\n",
    "- Cost: will be zero in terms of currency, we only need to request data.<br/>\n",
    "- Constraints: time is the biggest constraint we only have a limited time before our deadlines.<br/>\n",
    "- Benefits: we will predict which students have a higher succes rate, so we can actively try to get them to come to our school.\n",
    " \n",
    "#### 3) Data science goals\n",
    "      \n",
    "- Main goal:\n",
    "\n",
    "Given data about a student, we want to predict if they are going to be successful or not.<br/>\n",
    "- Other goals:\n",
    "\n",
    "Analyze which courses are failed/passed the most, in order to improve these courses.<br/>\n",
    "How do students interact with the virtual learning environments and how does it improve their chances to succeed in the courses.<br/><br/>"
   ]
  },
  {
   "attachments": {},
   "cell_type": "markdown",
   "metadata": {},
   "source": [
    "### Data understanding\n",
    "---\n",
    "\n",
    "A few questions we researched in the previous assignment (see notebook from [previous assignment](../Assignment%202/assignment2.ipynb)):"
   ]
  },
  {
   "attachments": {},
   "cell_type": "markdown",
   "metadata": {},
   "source": [
    "##### 🔎 How many students did not submit their assessments?\n",
    "\n",
    "There were only 173 assignments that were not submitted out of 869560 entries (0.000199%). <br/>\n",
    "This is a very small percentage and we can conclude that most students do submit their assignments."
   ]
  },
  {
   "attachments": {},
   "cell_type": "markdown",
   "metadata": {},
   "source": [
    "##### 🔎 Is there any correlation between disability and the student's final result?\n",
    "\n",
    "There are 2717 disabled students (9.44 %) and 26068 non-disabled students (90.56 %) in our dataset.\n",
    "\n",
    "<center>\n",
    "<img src=\"images/disability_final_results_distribution.png\" style=\"max-width: 90%;\"/><br/>\n",
    "</center>\n",
    "\n",
    "Disabled students have higher percentages of \"Fail\" and \"Withdrawn\" than not disabled students."
   ]
  },
  {
   "attachments": {},
   "cell_type": "markdown",
   "metadata": {},
   "source": [
    "##### 🔎 Is there any correlation between the gender and the student's final result?\n",
    "\n",
    "There are 13396 male students (51.82%), and 12455 female students (48.18%) in our dataset.<br/>\n",
    "There is a 0.4 % difference between the female and male students' average scores, but we are not sure if this is statistically significant.\n",
    "\n",
    "<center>\n",
    "<img src=\"images/gender_scores.png\" /><br/>\n",
    "</center>\n",
    "\n",
    "We also observed a weird pattern: In all of the scores, except at 1, 20, 40, 60, 80 and 100, there seem to be more males than females, but at those values there are considerably more females. We don't know if this is a mistake, or if female students are being evaluated differently than male students.\n",
    "\n",
    "<center>\n",
    "<img src=\"images/gender_final_results.png\" style=\"max-width: 90%;\"/><br/>\n",
    "</center>\n",
    "\n",
    "From this data, we concluded that there are no big differences between the two genders' final results."
   ]
  },
  {
   "attachments": {},
   "cell_type": "markdown",
   "metadata": {},
   "source": [
    "##### 🔎 Is there any correlation between the IMD score and the student's final result?\n",
    "<blockquote> \n",
    "The IMD score is a measure of the deprivation of an area, and it ranges from 1 to 10, where 1 is the most deprived area and 10 is the least deprived area.\n",
    "</blockquote>\n",
    "<br/>\n",
    "<center>\n",
    "<img src=\"images/imd_scores.png\" style=\"max-width: 90%; max-height: 550px;\"/><br/>\n",
    "</center>\n",
    "\n",
    "We observed a positive correlation between the IMD score and scores of the students, which means the higher the IMD, the higher the average score of the students.\n",
    "\n",
    "<center>\n",
    "<img src=\"images/imd_final_results.png\" style=\"max-width: 90%;\"/><br/>\n",
    "</center>\n",
    "\n",
    "There is also a higher percentage of students who pass or have a distinction on the higher imd_band levels, and a higher percentage of failed students on the lower levels."
   ]
  },
  {
   "attachments": {},
   "cell_type": "markdown",
   "metadata": {},
   "source": [
    "\n",
    "##### 🔎 Is there any correlation between age and the student's final result?\n",
    "\n",
    "There are 20665 students who are 35 years old or younger, 8298 students between the ages of 35 and 55, and only 184 older than 55 years old. This is a very big difference, so drawing conclusions from this data might be misleading.\n",
    "\n",
    "<center>\n",
    "<img src=\"images/age_scores.png\" style=\"max-height: 600px;\"/><br/>\n",
    "</center>\n",
    "\n",
    "Still, we can see that the average score of the students increases with age, which means that older students have higher scores on average."
   ]
  },
  {
   "attachments": {},
   "cell_type": "markdown",
   "metadata": {},
   "source": [
    "##### 🔎 Is there any correlation between the highest education level and the student's final result?\n",
    "\n",
    "<center>\n",
    "<img src=\"images/education_final_results.png\" style=\"max-height: 600px;\"/><br/>\n",
    "</center>\n",
    "\n",
    "We can see that the percentage of students who pass or have a distinction increases with the highest education level, and the percentage of failed students decreases."
   ]
  },
  {
   "attachments": {},
   "cell_type": "markdown",
   "metadata": {},
   "source": [
    "##### 🔎 Is there any correlation between the region and the student's final result?\n",
    "\n",
    "First we noticed that a lot of column values were missing for students from the Scotland region. Our approach was to notify the business about it.\n",
    "\n",
    "<center>\n",
    "<img src=\"images/region_final_results.png\" style=\"max-height: 600px;\"/><br/>\n",
    "</center>\n",
    "\n",
    "The East Midlands region has the highest percentage of students who Widthdraw.<br/>\n",
    "The North Western region has the highest percentage of Failed students.<br/>\n",
    "\n",
    "Ireland has the highest percentage of passed students, and the North Region has the highest percentage of students with a distinction.<br/>\n",
    "\n",
    "If we look at the sum of \"Passed\" and \"Distinction\" as being \"Successful\" and the sum of being \"Failed\" or \"Widthdrawn\" as \"Unsuccessful\", then we can see that the North region is in the lead with 75% successful students and the North Western Region is at the bottom with 67% of successful students.<br/>\n",
    "\n",
    "We concluded that the region does have an impact on the student's final result."
   ]
  },
  {
   "attachments": {},
   "cell_type": "markdown",
   "metadata": {},
   "source": [
    "##### 🔎 Is there any correlation between interaction with the VLE's and the student's final result?\n",
    "\n",
    "It was difficult to answer this question because there were a lot of outliers. <br/>\n",
    "\n",
    "<center>\n",
    "<img src=\"images/sum_clicks_final_results.png\" style=\"max-height: 600px;\"/><br/>\n",
    "</center>\n",
    "\n",
    "We don't know if this is statistically significant, but we can conclude that there is a correlation between the interaction with the VLE and the student's final result. Students who pass or have a distinction have a higher average number of clicks than students who fail or withdraw."
   ]
  },
  {
   "attachments": {},
   "cell_type": "markdown",
   "metadata": {},
   "source": [
    "### Data quality\n",
    "---"
   ]
  },
  {
   "attachments": {},
   "cell_type": "markdown",
   "metadata": {},
   "source": [
    "- Dates and other columns were in weird formats, and we didn't know how to interpret them.\n",
    "- There were a lot of missing values, especially on rows of students from the Scotland region.\n",
    "\n",
    "We contacted the business about these issues, and a more complete dictionary was provided as well as a dataset with the missing values for the Scotland region filled in.<br/>\n",
    "Unfortunately, we didn't have enough time to do a full analysis of the new dataset. We did however use it for the modelling part of this assignment."
   ]
  },
  {
   "attachments": {},
   "cell_type": "markdown",
   "metadata": {},
   "source": [
    "## Data Modelling"
   ]
  },
  {
   "cell_type": "markdown",
   "metadata": {},
   "source": [
    "The main goal of this project was to predict the final result for a new student, using their data. Since a new student wouldn't have any information on other assignments or any interaction on the Vle's, we got the conclusion that would be better to only use the \"Student Info\" data. \n",
    "We thought it would be relevant to use \"gender\",\"region\",\"highest_education\",\"imd_band\",\"age_band\",\"num_of_prev_attempts\",\"studied_credits\",\"disability\". The others variables \"code_module\",\"code_presentation\",\"id_student\" are not relevant to the prediction because they are always new for a new student."
   ]
  },
  {
   "cell_type": "markdown",
   "metadata": {},
   "source": [
    "Our target variable is the final results which can be \"Pass\" or \"Fail\". To simplify our target we combine \"Distinction\" with \"Pass\" since means the same, and drop the \"Withdrawn\" because we can't predict if they would pass or fail. Based on this, we used different kinds of classifier models like Decision Tree, Random Forest, Logistic Regression, KNN, Support Vector Classifier, Naive Bayes and Neural Network. \n",
    "\n",
    "After comparing the different metrics of the models, we made our decision based on the accurary and recall of the model. Accuracy show us how many times the ML model was correct overall. Precision is how good the model is at predicting a specific category. Recall is the ratio of correctly predicted positive observations to the all observations in actual class.\n",
    "Based in this information, we got to the conclusion that the best model was Naive Bayes with an accuracy of 66.7% and a recall of 21.47%. \n",
    "Even though, Neural Network has a sligthly better accuracy it takes a lot of time to run, so we choose to persuit with Naive Bayes.   "
   ]
  },
  {
   "cell_type": "markdown",
   "metadata": {},
   "source": [
    "### Model\n"
   ]
  },
  {
   "attachments": {},
   "cell_type": "markdown",
   "metadata": {},
   "source": [
    "![SVC Confusion matrix](images/Naive_Confusion.png)"
   ]
  },
  {
   "cell_type": "code",
   "execution_count": null,
   "metadata": {},
   "outputs": [],
   "source": [
    "#Pass\n",
    "5161 + 707"
   ]
  },
  {
   "cell_type": "code",
   "execution_count": null,
   "metadata": {},
   "outputs": [],
   "source": [
    "#Fail\n",
    "2165 + 592"
   ]
  },
  {
   "cell_type": "code",
   "execution_count": null,
   "metadata": {},
   "outputs": [],
   "source": [
    "#Predicted Pass\n",
    "5161 + 2165 "
   ]
  },
  {
   "cell_type": "code",
   "execution_count": null,
   "metadata": {},
   "outputs": [],
   "source": [
    "#Predicted Fail\n",
    "707 + 592"
   ]
  },
  {
   "cell_type": "markdown",
   "metadata": {},
   "source": [
    "\n",
    "In the data there are 5868 students that pass and 2757 that failed.\n",
    "According to the confusion matrix, we can see that the model predicts that 7326 students would pass, but of these only 5161 actually passed. On other hand, the model predicted that 1299 would fail, but only 592 did. "
   ]
  },
  {
   "cell_type": "markdown",
   "metadata": {},
   "source": [
    "Looking at these results, we can see that even though the accuracy of this model stand over the 66.7%, the model makes more mistakes when is dealing with failed students. "
   ]
  },
  {
   "cell_type": "markdown",
   "metadata": {},
   "source": [
    "### Conclusion"
   ]
  },
  {
   "cell_type": "markdown",
   "metadata": {},
   "source": [
    "tivemos de usar a data arranjada mas não mudamos no assignment 2\n"
   ]
  }
 ],
 "metadata": {
  "kernelspec": {
   "display_name": "Python 3",
   "language": "python",
   "name": "python3"
  },
  "language_info": {
   "codemirror_mode": {
    "name": "ipython",
    "version": 3
   },
   "file_extension": ".py",
   "mimetype": "text/x-python",
   "name": "python",
   "nbconvert_exporter": "python",
   "pygments_lexer": "ipython3",
   "version": "3.10.9 (tags/v3.10.9:1dd9be6, Dec  6 2022, 20:01:21) [MSC v.1934 64 bit (AMD64)]"
  },
  "vscode": {
   "interpreter": {
    "hash": "53af14ca73579f38fc35504d34bf3f508b7be4b24c212c3802f5823429636072"
   }
  }
 },
 "nbformat": 4,
 "nbformat_minor": 2
}
