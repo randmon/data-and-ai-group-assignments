{
 "cells": [
  {
   "cell_type": "markdown",
   "metadata": {},
   "source": [
    "# Data and AI Assignment 3\n",
    "![UCLL logo](https://cdn.discordapp.com/attachments/1025724154852417549/1033683765530218506/unknown.png)\n",
    "\n",
    "Group\n",
    "- Astrid Piot\n",
    "- Catarina Rilho\n",
    "- Catarina Afonso\n",
    "- Cristina Marques\n",
    "- Greg François Reynders\n",
    "- Robbe Van de Velde\n",
    "- Rocío Pérez Holgado\n",
    "- Seppe Haems"
   ]
  },
  {
   "cell_type": "markdown",
   "metadata": {},
   "source": [
    "## Data understanding\n",
    "---"
   ]
  },
  {
   "attachments": {},
   "cell_type": "markdown",
   "metadata": {},
   "source": [
    "The business people have heard our requests and have updated the data dictionaries:"
   ]
  },
  {
   "attachments": {},
   "cell_type": "markdown",
   "metadata": {},
   "source": [
    "### Describe the data"
   ]
  },
  {
   "attachments": {},
   "cell_type": "markdown",
   "metadata": {},
   "source": [
    "##### Assessments\n",
    "\n",
    "*This file contains information about assessments in module-presentations. Usually, every presentation has a number of assessments followed by the final exam.*\n",
    "\n",
    "|variable                       |class          |description                    |notes                        |\n",
    "|:------------------------------|:--------------|:------------------------------|:----------------------------|\n",
    "|code_module                    |character      |identification code of the module||\n",
    "|code_presentation              |character      |identification code of the presentation||\n",
    "|id_assessment                  |number         |identification number of the assessment||\n",
    "|assessment_type                |character      |type of assessment. Three types of assessments exist: Tutor Marked Assessment (TMA), Computer Marked Assessment (CMA) and Final Exam (Exam)||\n",
    "|date                           |number         | information about the final submission date of the assessment calculated as the number of days since the start of the module-presentation. The starting date of the presentation has number 0 (zero).|If the information about the final exam date is missing, it is at the end of the last presentation week.|\n",
    "|weight                         |double     |weight of the assessment in %. Typically, Exams are treated separately and have the weight 100%; the sum of all other assessments is 100%||"
   ]
  },
  {
   "cell_type": "markdown",
   "metadata": {},
   "source": [
    "##### Courses\n",
    "\n",
    "*File contains the list of all available modules and their presentations. The columns are:*\n",
    "\n",
    "|variable                       |class          |description                    |notes                        |\n",
    "|:------------------------------|:--------------|:------------------------------|:----------------------------|\n",
    "|code_module                    |character      |code name of the module, which serves as the identifier||\n",
    "|code_presentation              |character      |code name of the presentation. It consists of the year and “B” for the presentation starting in February and “J” for the presentation starting in October.||\n",
    "|module_presentation_length     |number         |length of the module-presentation in days||\n",
    "\n",
    "*The structure of B and J presentations may differ and therefore it is good practice to analyse the B and J presentations separately. Nevertheless, for some presentations the corresponding previous B/J presentation do not exist and therefore the J presentation must be used to inform the B presentation or vice versa. In the dataset this is the case of CCC, EEE and GGG modules.*"
   ]
  },
  {
   "attachments": {},
   "cell_type": "markdown",
   "metadata": {},
   "source": [
    "##### Student Assessment\n",
    "\n",
    "*This file contains the results of students’ assessments. If the student does not submit the assessment, no result is recorded. The final exam submissions is missing, if the result of the assessments is not stored in the system. This file contains the following columns:*\n",
    "\n",
    "|variable                       |class          |description                    |notes                        |\n",
    "|:------------------------------|:--------------|:------------------------------|:----------------------------|\n",
    "|id_assessment                  |number         |the identification number of the assessment||\n",
    "|id_student                     |number         |a unique identification number for the student||\n",
    "|date_submitted                 |number         |the date of student submission, measured as the number of days since the start of the module presentation.||\n",
    "|is_banked                      |boolean        |a status flag indicating that the assessment result has been transferred from a previous presentation.||\n",
    "|score                          |double         |the student’s score in this assessment. The range is from 0 to 100. The score lower than 40 is interpreted as Fail. The marks are in the range from 0 to 100.||"
   ]
  },
  {
   "attachments": {},
   "cell_type": "markdown",
   "metadata": {},
   "source": [
    "##### Student Registration\n",
    "\n",
    "*This file contains information about the time when the student registered for the module presentation. For students who unregistered the date of unregistration is also recorded. File contains five columns:*\n",
    "\n",
    "|variable                       |class          |description                    |notes                        |\n",
    "|:------------------------------|:--------------|:------------------------------|:----------------------------|\n",
    "|code_module                    |character      |an identification code for a module||\n",
    "|code_presentation              |character      |the identification code of the presentation||\n",
    "|id_student                     |number         |a unique identification number for the student\n",
    "|date_registration              |double         |the date of student’s registration on the module presentation, this is the number of days measured relative to the start of the module-presentation (e.g. the negative value -30 means that the student registered to module presentation 30 days before it started).||\n",
    "|date_unregistration            |double         |date of student unregistration from the module presentation, this is the number of days measured relative to the start of the module-presentation. Students, who completed the course have this field empty. Students who unregistered have Withdrawal as the value of the final_result column in the studentInfo.csv file.||"
   ]
  },
  {
   "attachments": {},
   "cell_type": "markdown",
   "metadata": {},
   "source": [
    "##### Student Info\n",
    "\n",
    "*This file contains demographic information about the students together with their results. File contains the following columns:*\n",
    "\n",
    "|variable                       |class          |description                    |notes                        |\n",
    "|:------------------------------|:--------------|:------------------------------|:----------------------------|\n",
    "|code_module                    |character      |an identification code for a module||\n",
    "|code_presentation              |character      |the identification code of the presentation||\n",
    "|id_student                     |number         |a unique identification number for the student||\n",
    "|gender                         |character      |the student’s gender||\n",
    "|region                         |character      |identifies the geographic region, where the student lived while taking the module-presentation.||\n",
    "|highest_education              |character      |highest student education level on entry to the module presentation||\n",
    "|imd_band                       |range (%)      |specifies the Index of Multiple Depravation band of the place where the student lived during the module-presentation||\n",
    "|age_band                       |range (number) |band of the student’s age\n",
    "|num_of_prev_attempts           |number         |the number times the student has attempted this module||\n",
    "|studied_credits                |number         |the total number of credits for the modules the student is currently studying||\n",
    "|disability                     |character      |indicates whether the student has declared a disability|(Y/N)|\n",
    "|final_result                   |character      |student’s final result in the module-presentation||"
   ]
  },
  {
   "attachments": {},
   "cell_type": "markdown",
   "metadata": {},
   "source": [
    "##### Student VLE\n",
    "\n",
    "*The studentVle.csv file contains information about each student’s interactions with the materials in the VLE (Virtual Learning Environment). This file contains the following columns:*\n",
    "\n",
    "|variable                       |class          |description                    |notes                        |\n",
    "|:------------------------------|:--------------|:------------------------------|:----------------------------|\n",
    "|code_module                    |character      |an identification code for a module||\n",
    "|code_presentation              |character      |the identification code of the presentation||\n",
    "|id_student                     |number         |a unique identification number for the student||\n",
    "|id_site                        |number         |an identification number for the VLE material||\n",
    "|date                           |number         | the date of student’s interaction with the material measured as the number of days since the start of the module-presentation.||\n",
    "sum_click                       |number         |the number of times a student interacts with the material on that date||"
   ]
  },
  {
   "attachments": {},
   "cell_type": "markdown",
   "metadata": {},
   "source": [
    "##### VLE\n",
    "\n",
    "*The csv file contains information about the available materials in the VLE. Typically these are html pages, pdf files, etc. Students have access to these materials online and their interactions with the materials are recorded. The vle.csv file contains the following columns:*\n",
    "\n",
    "|variable                       |class          |description                    |notes                        |\n",
    "|:------------------------------|:--------------|:------------------------------|:----------------------------|\n",
    "|id_site                        |number         |an identification number of the material.||\n",
    "|code_module                    |character      |an identification code for a module||\n",
    "|code_presentation              |character      |the identification code of the presentation||\n",
    "|id_site                        |number         |an identification number for the VLE material||\n",
    "|activity_type                  |character      |the role associated with the module material||\n",
    "|week_from                      |number         |the week from which the material is planned to be used||\n",
    "|week_to                        |number         |week until which the material is planned to be used||"
   ]
  },
  {
   "cell_type": "markdown",
   "metadata": {},
   "source": [
    "### 3) Explore the data"
   ]
  },
  {
   "cell_type": "markdown",
   "metadata": {},
   "source": [
    "#### Load in the data"
   ]
  },
  {
   "cell_type": "code",
   "execution_count": 32,
   "metadata": {},
   "outputs": [],
   "source": [
    "# Load in the python modules\n",
    "import pandas as pd\n",
    "import numpy as np\n",
    "import matplotlib.pyplot as plt\n",
    "import seaborn as sns\n",
    "import plotly.express as px\n",
    "from scipy import stats\n",
    "import scikit_posthocs as sp\n",
    "pd.options.display.float_format = '{:,.2f}'.format"
   ]
  },
  {
   "cell_type": "code",
   "execution_count": 33,
   "metadata": {},
   "outputs": [],
   "source": [
    "# Create the data frames\n",
    "assessments_df = pd.read_csv('data/assessments.csv')\n",
    "courses_df = pd.read_csv('data/courses.csv')\n",
    "student_assessment_df = pd.read_csv('data/studentAssessment.csv')\n",
    "student_registration_df = pd.read_csv('data/studentRegistration.csv')\n",
    "student_info_df = pd.read_csv('data/studentInfo.csv')\n",
    "student_vle_df = pd.read_csv('data/studentVle.csv')\n",
    "vle_df = pd.read_csv('data/vle.csv')"
   ]
  },
  {
   "cell_type": "code",
   "execution_count": 34,
   "metadata": {},
   "outputs": [],
   "source": [
    "# Replace NaN with -1 in the score column\n",
    "student_assessment_df['score'].fillna(-1, inplace=True)"
   ]
  },
  {
   "cell_type": "code",
   "execution_count": 35,
   "metadata": {},
   "outputs": [],
   "source": [
    "# Remove the date_registration column\n",
    "student_registration_df.drop(columns=['date_registration'], inplace=True)\n",
    "\n",
    "# Replace date_unregestration NaN with false and all the other values with true\n",
    "student_registration_df['date_unregistration'] = student_registration_df['date_unregistration'].apply(lambda x: False if pd.isnull(x) else True)\n",
    "\n",
    "# Rename the date_unregestration column to unregistered\n",
    "student_registration_df.rename(columns={'date_unregistration': 'unregistered'}, inplace=True)"
   ]
  },
  {
   "cell_type": "code",
   "execution_count": 36,
   "metadata": {},
   "outputs": [],
   "source": [
    "student_info_df = student_info_df.fillna(value={\"imd_band\": \"Missing\"})"
   ]
  },
  {
   "cell_type": "markdown",
   "metadata": {},
   "source": [
    "##### Explore student information"
   ]
  },
  {
   "cell_type": "code",
   "execution_count": 39,
   "metadata": {},
   "outputs": [],
   "source": [
    "student_assessments_info = pd.merge(student_assessment_df, student_info_df, on=['id_student'], how='left')"
   ]
  },
  {
   "cell_type": "code",
   "execution_count": 42,
   "metadata": {},
   "outputs": [],
   "source": [
    "# Average score per gender\n",
    "gendered_scores = student_assessments_info[(student_assessments_info['gender'] != 'Unknown') & (student_assessments_info['score'] >= 0)]"
   ]
  },
  {
   "cell_type": "code",
   "execution_count": 43,
   "metadata": {},
   "outputs": [],
   "source": [
    "student_average_scores = gendered_scores.groupby(['gender', 'age_band', 'id_student'], as_index=False)['score'].mean()"
   ]
  },
  {
   "cell_type": "code",
   "execution_count": 44,
   "metadata": {},
   "outputs": [],
   "source": [
    "final_results_per_gender = student_assessments_info[student_assessments_info['gender']!='Unknown'].groupby(['gender', 'final_result']).size().unstack()"
   ]
  },
  {
   "cell_type": "code",
   "execution_count": 45,
   "metadata": {},
   "outputs": [],
   "source": [
    "student_assessments_info['imd_band'] = student_assessments_info['imd_band'].apply(lambda x: int(x[0])+1 if not x == \"Missing\" else x)"
   ]
  },
  {
   "cell_type": "code",
   "execution_count": 46,
   "metadata": {},
   "outputs": [],
   "source": [
    "final_results_per_imd = student_assessments_info.groupby(['imd_band', 'final_result']).size().unstack()\n",
    "final_results_per_imd = round(final_results_per_imd.div(final_results_per_imd.sum(axis=1), axis=0), 4) * 100"
   ]
  },
  {
   "cell_type": "code",
   "execution_count": 47,
   "metadata": {},
   "outputs": [],
   "source": [
    "final_results_per_region = student_assessments_info.groupby(['region', 'final_result']).size().unstack()\n",
    "final_results_per_region = round(final_results_per_region.div(final_results_per_region.sum(axis=1), axis=0), 4) * 100"
   ]
  },
  {
   "cell_type": "code",
   "execution_count": 49,
   "metadata": {},
   "outputs": [],
   "source": [
    "successful_students_per_region = student_assessments_info\n",
    "successful_students_per_region['Success'] = successful_students_per_region['final_result'].apply(lambda x: 'Successful' if x in ['Pass', 'Distinction'] else 'Unsuccessful')\n",
    "successful_students_per_region = successful_students_per_region.groupby(['region', 'Success']).size().unstack()\n",
    "\n",
    "successful_students_per_region = round(successful_students_per_region.div(successful_students_per_region.sum(axis=1), axis=0), 4) * 100\n",
    "successful_students_per_region.drop('Unsuccessful', axis=1, inplace=True)\n",
    "successful_students_per_region.sort_values(by=['Successful'], ascending=False, inplace=True)\n"
   ]
  },
  {
   "cell_type": "code",
   "execution_count": 50,
   "metadata": {},
   "outputs": [],
   "source": [
    "final_result_disability = student_info_df.groupby([\"disability\", \"final_result\"]).size().unstack()"
   ]
  },
  {
   "cell_type": "code",
   "execution_count": 51,
   "metadata": {},
   "outputs": [],
   "source": [
    "# convert numbers to percentages\n",
    "final_result_disability = round(final_result_disability.div(final_result_disability.sum(axis=1), axis=0), 4) * 100"
   ]
  },
  {
   "cell_type": "code",
   "execution_count": 52,
   "metadata": {},
   "outputs": [],
   "source": [
    "final_result_education = student_info_df.groupby([\"highest_education\", \"final_result\"]).size().unstack()"
   ]
  },
  {
   "cell_type": "code",
   "execution_count": 53,
   "metadata": {},
   "outputs": [],
   "source": [
    "final_result_education = round(final_result_education.div(final_result_education.sum(axis=1), axis=0), 4) * 100"
   ]
  },
  {
   "cell_type": "code",
   "execution_count": 54,
   "metadata": {},
   "outputs": [],
   "source": [
    "student_credits_info = student_info_df[student_info_df.columns[student_info_df.columns.isin([\"id_student\", \"studied_credits\", \"final_result\"])]]"
   ]
  },
  {
   "cell_type": "code",
   "execution_count": 56,
   "metadata": {},
   "outputs": [],
   "source": [
    "student_attempted_tries = student_info_df[student_info_df.columns[student_info_df.columns.isin([\"id_student\", \"num_of_prev_attempts\", \"final_result\"])]]\n",
    "final_result_attempted_tries = student_attempted_tries.groupby([\"num_of_prev_attempts\", \"final_result\"]).size().unstack()\n"
   ]
  },
  {
   "cell_type": "code",
   "execution_count": 57,
   "metadata": {},
   "outputs": [],
   "source": [
    "final_result_attempted_tries = final_result_attempted_tries[final_result_attempted_tries.index <= 3]"
   ]
  },
  {
   "cell_type": "code",
   "execution_count": 58,
   "metadata": {},
   "outputs": [],
   "source": [
    "final_result_attempted_tries = round(final_result_attempted_tries.div(final_result_attempted_tries.sum(axis=1), axis=0), 4) * 100"
   ]
  },
  {
   "cell_type": "code",
   "execution_count": 59,
   "metadata": {},
   "outputs": [],
   "source": [
    "student_vle_info_df = pd.merge(student_vle_df, student_info_df, how=\"inner\", on=[\"id_student\"])"
   ]
  },
  {
   "cell_type": "code",
   "execution_count": 60,
   "metadata": {},
   "outputs": [],
   "source": [
    "student_vle_mean = student_vle_info_df.groupby('final_result', as_index=False)['sum_click'].mean()"
   ]
  },
  {
   "cell_type": "code",
   "execution_count": 61,
   "metadata": {},
   "outputs": [],
   "source": [
    "top_10_clicks = student_vle_info_df.sort_values(by=[\"sum_click\"], ascending=False).head(10)"
   ]
  },
  {
   "cell_type": "code",
   "execution_count": 62,
   "metadata": {},
   "outputs": [],
   "source": [
    "student_vle_info_outliers_dropped = student_vle_info_df.drop(student_vle_info_df[student_vle_info_df[\"sum_click\"] >= 100].index)"
   ]
  },
  {
   "cell_type": "code",
   "execution_count": 63,
   "metadata": {},
   "outputs": [],
   "source": [
    "student_vle_info_outliers_dropped_mean = student_vle_info_outliers_dropped.groupby('final_result', as_index=False)['sum_click'].mean()"
   ]
  },
  {
   "cell_type": "code",
   "execution_count": 65,
   "metadata": {},
   "outputs": [],
   "source": [
    "assessments_info_scores = pd.merge(student_assessment_df, assessments_df, on=[\"id_assessment\"])"
   ]
  },
  {
   "attachments": {},
   "cell_type": "markdown",
   "metadata": {},
   "source": [
    "# Assignment 3"
   ]
  },
  {
   "cell_type": "code",
   "execution_count": 154,
   "metadata": {},
   "outputs": [],
   "source": [
    "from sklearn.model_selection import train_test_split\n",
    "from sklearn import neighbors\n",
    "from sklearn.neighbors import KNeighborsClassifier\n",
    "import metrics\n",
    "from sklearn.preprocessing import OneHotEncoder\n",
    "from sklearn.compose import make_column_transformer"
   ]
  },
  {
   "attachments": {},
   "cell_type": "markdown",
   "metadata": {},
   "source": [
    "## Does the disablity of a student contribute to the failure in a course?"
   ]
  },
  {
   "cell_type": "code",
   "execution_count": 155,
   "metadata": {},
   "outputs": [],
   "source": [
    "categoric = [\"gender\"]\n",
    "\n",
    "oneHotCols = make_column_transformer(\n",
    "    (OneHotEncoder(), categoric),\n",
    "    remainder=\"drop\" # This ensures all columns that weren't affected by the transformer are removed from the result.\n",
    ")\n",
    "student_vle_encoded = oneHotCols.fit_transform(student_vle_info_df)"
   ]
  },
  {
   "cell_type": "code",
   "execution_count": 156,
   "metadata": {},
   "outputs": [],
   "source": [
    "# split the data set student_vle_info_df into training and test set with a 60 to 40 ratio\n",
    "train, test = train_test_split(student_vle_info_df, test_size=0.4, random_state=42)\n",
    "# give me an x and y for the training set with y being the final_result and x being the rest of the columns\n",
    "# x_train = train.drop([\"final_result\"], axis=1)\n",
    "x_train = train[\"gender\"]\n",
    "y_train = train[\"final_result\"]\n",
    "# give me an x and y for the test set with y being the final_result and x being the rest of the columns\n",
    "# x_test = test.drop([\"final_result\"], axis=1)\n",
    "x_test = test[\"gender\"]\n",
    "y_test = test[\"final_result\"]"
   ]
  },
  {
   "cell_type": "code",
   "execution_count": 157,
   "metadata": {},
   "outputs": [
    {
     "ename": "ValueError",
     "evalue": "could not convert string to float: 'M'",
     "output_type": "error",
     "traceback": [
      "\u001b[1;31m---------------------------------------------------------------------------\u001b[0m",
      "\u001b[1;31mValueError\u001b[0m                                Traceback (most recent call last)",
      "Cell \u001b[1;32mIn [157], line 3\u001b[0m\n\u001b[0;32m      1\u001b[0m \u001b[39m#use knn to predict the final result based on the gender, imd_band, age_band, num_of_prev_attempts, studied_credits, sum_click\u001b[39m\n\u001b[0;32m      2\u001b[0m knn \u001b[39m=\u001b[39m KNeighborsClassifier(n_neighbors\u001b[39m=\u001b[39m\u001b[39m5\u001b[39m)\n\u001b[1;32m----> 3\u001b[0m knn\u001b[39m.\u001b[39;49mfit(x_train, y_train)\n\u001b[0;32m      4\u001b[0m y_pred \u001b[39m=\u001b[39m knn\u001b[39m.\u001b[39mpredict(x_test)\n\u001b[0;32m      5\u001b[0m \u001b[39mprint\u001b[39m(\u001b[39m\"\u001b[39m\u001b[39mAccuracy:\u001b[39m\u001b[39m\"\u001b[39m, y_pred)\n",
      "File \u001b[1;32mc:\\Users\\robbe\\AppData\\Local\\Programs\\Python\\Python39\\lib\\site-packages\\sklearn\\neighbors\\_classification.py:207\u001b[0m, in \u001b[0;36mKNeighborsClassifier.fit\u001b[1;34m(self, X, y)\u001b[0m\n\u001b[0;32m    188\u001b[0m \u001b[39m\"\"\"Fit the k-nearest neighbors classifier from the training dataset.\u001b[39m\n\u001b[0;32m    189\u001b[0m \n\u001b[0;32m    190\u001b[0m \u001b[39mParameters\u001b[39m\n\u001b[1;32m   (...)\u001b[0m\n\u001b[0;32m    203\u001b[0m \u001b[39m    The fitted k-nearest neighbors classifier.\u001b[39m\n\u001b[0;32m    204\u001b[0m \u001b[39m\"\"\"\u001b[39m\n\u001b[0;32m    205\u001b[0m \u001b[39mself\u001b[39m\u001b[39m.\u001b[39mweights \u001b[39m=\u001b[39m _check_weights(\u001b[39mself\u001b[39m\u001b[39m.\u001b[39mweights)\n\u001b[1;32m--> 207\u001b[0m \u001b[39mreturn\u001b[39;00m \u001b[39mself\u001b[39;49m\u001b[39m.\u001b[39;49m_fit(X, y)\n",
      "File \u001b[1;32mc:\\Users\\robbe\\AppData\\Local\\Programs\\Python\\Python39\\lib\\site-packages\\sklearn\\neighbors\\_base.py:407\u001b[0m, in \u001b[0;36mNeighborsBase._fit\u001b[1;34m(self, X, y)\u001b[0m\n\u001b[0;32m    405\u001b[0m \u001b[39mif\u001b[39;00m \u001b[39mself\u001b[39m\u001b[39m.\u001b[39m_get_tags()[\u001b[39m\"\u001b[39m\u001b[39mrequires_y\u001b[39m\u001b[39m\"\u001b[39m]:\n\u001b[0;32m    406\u001b[0m     \u001b[39mif\u001b[39;00m \u001b[39mnot\u001b[39;00m \u001b[39misinstance\u001b[39m(X, (KDTree, BallTree, NeighborsBase)):\n\u001b[1;32m--> 407\u001b[0m         X, y \u001b[39m=\u001b[39m \u001b[39mself\u001b[39;49m\u001b[39m.\u001b[39;49m_validate_data(\n\u001b[0;32m    408\u001b[0m             X, y, accept_sparse\u001b[39m=\u001b[39;49m\u001b[39m\"\u001b[39;49m\u001b[39mcsr\u001b[39;49m\u001b[39m\"\u001b[39;49m, multi_output\u001b[39m=\u001b[39;49m\u001b[39mTrue\u001b[39;49;00m, order\u001b[39m=\u001b[39;49m\u001b[39m\"\u001b[39;49m\u001b[39mC\u001b[39;49m\u001b[39m\"\u001b[39;49m\n\u001b[0;32m    409\u001b[0m         )\n\u001b[0;32m    411\u001b[0m     \u001b[39mif\u001b[39;00m is_classifier(\u001b[39mself\u001b[39m):\n\u001b[0;32m    412\u001b[0m         \u001b[39m# Classification targets require a specific format\u001b[39m\n\u001b[0;32m    413\u001b[0m         \u001b[39mif\u001b[39;00m y\u001b[39m.\u001b[39mndim \u001b[39m==\u001b[39m \u001b[39m1\u001b[39m \u001b[39mor\u001b[39;00m y\u001b[39m.\u001b[39mndim \u001b[39m==\u001b[39m \u001b[39m2\u001b[39m \u001b[39mand\u001b[39;00m y\u001b[39m.\u001b[39mshape[\u001b[39m1\u001b[39m] \u001b[39m==\u001b[39m \u001b[39m1\u001b[39m:\n",
      "File \u001b[1;32mc:\\Users\\robbe\\AppData\\Local\\Programs\\Python\\Python39\\lib\\site-packages\\sklearn\\base.py:596\u001b[0m, in \u001b[0;36mBaseEstimator._validate_data\u001b[1;34m(self, X, y, reset, validate_separately, **check_params)\u001b[0m\n\u001b[0;32m    594\u001b[0m         y \u001b[39m=\u001b[39m check_array(y, input_name\u001b[39m=\u001b[39m\u001b[39m\"\u001b[39m\u001b[39my\u001b[39m\u001b[39m\"\u001b[39m, \u001b[39m*\u001b[39m\u001b[39m*\u001b[39mcheck_y_params)\n\u001b[0;32m    595\u001b[0m     \u001b[39melse\u001b[39;00m:\n\u001b[1;32m--> 596\u001b[0m         X, y \u001b[39m=\u001b[39m check_X_y(X, y, \u001b[39m*\u001b[39m\u001b[39m*\u001b[39mcheck_params)\n\u001b[0;32m    597\u001b[0m     out \u001b[39m=\u001b[39m X, y\n\u001b[0;32m    599\u001b[0m \u001b[39mif\u001b[39;00m \u001b[39mnot\u001b[39;00m no_val_X \u001b[39mand\u001b[39;00m check_params\u001b[39m.\u001b[39mget(\u001b[39m\"\u001b[39m\u001b[39mensure_2d\u001b[39m\u001b[39m\"\u001b[39m, \u001b[39mTrue\u001b[39;00m):\n",
      "File \u001b[1;32mc:\\Users\\robbe\\AppData\\Local\\Programs\\Python\\Python39\\lib\\site-packages\\sklearn\\utils\\validation.py:1074\u001b[0m, in \u001b[0;36mcheck_X_y\u001b[1;34m(X, y, accept_sparse, accept_large_sparse, dtype, order, copy, force_all_finite, ensure_2d, allow_nd, multi_output, ensure_min_samples, ensure_min_features, y_numeric, estimator)\u001b[0m\n\u001b[0;32m   1069\u001b[0m         estimator_name \u001b[39m=\u001b[39m _check_estimator_name(estimator)\n\u001b[0;32m   1070\u001b[0m     \u001b[39mraise\u001b[39;00m \u001b[39mValueError\u001b[39;00m(\n\u001b[0;32m   1071\u001b[0m         f\u001b[39m\"\u001b[39m\u001b[39m{estimator_name}\u001b[39;00m\u001b[39m requires y to be passed, but the target y is None\u001b[39m\u001b[39m\"\u001b[39m\n\u001b[0;32m   1072\u001b[0m     )\n\u001b[1;32m-> 1074\u001b[0m X \u001b[39m=\u001b[39m check_array(\n\u001b[0;32m   1075\u001b[0m     X,\n\u001b[0;32m   1076\u001b[0m     accept_sparse\u001b[39m=\u001b[39;49maccept_sparse,\n\u001b[0;32m   1077\u001b[0m     accept_large_sparse\u001b[39m=\u001b[39;49maccept_large_sparse,\n\u001b[0;32m   1078\u001b[0m     dtype\u001b[39m=\u001b[39;49mdtype,\n\u001b[0;32m   1079\u001b[0m     order\u001b[39m=\u001b[39;49morder,\n\u001b[0;32m   1080\u001b[0m     copy\u001b[39m=\u001b[39;49mcopy,\n\u001b[0;32m   1081\u001b[0m     force_all_finite\u001b[39m=\u001b[39;49mforce_all_finite,\n\u001b[0;32m   1082\u001b[0m     ensure_2d\u001b[39m=\u001b[39;49mensure_2d,\n\u001b[0;32m   1083\u001b[0m     allow_nd\u001b[39m=\u001b[39;49mallow_nd,\n\u001b[0;32m   1084\u001b[0m     ensure_min_samples\u001b[39m=\u001b[39;49mensure_min_samples,\n\u001b[0;32m   1085\u001b[0m     ensure_min_features\u001b[39m=\u001b[39;49mensure_min_features,\n\u001b[0;32m   1086\u001b[0m     estimator\u001b[39m=\u001b[39;49mestimator,\n\u001b[0;32m   1087\u001b[0m     input_name\u001b[39m=\u001b[39;49m\u001b[39m\"\u001b[39;49m\u001b[39mX\u001b[39;49m\u001b[39m\"\u001b[39;49m,\n\u001b[0;32m   1088\u001b[0m )\n\u001b[0;32m   1090\u001b[0m y \u001b[39m=\u001b[39m _check_y(y, multi_output\u001b[39m=\u001b[39mmulti_output, y_numeric\u001b[39m=\u001b[39my_numeric, estimator\u001b[39m=\u001b[39mestimator)\n\u001b[0;32m   1092\u001b[0m check_consistent_length(X, y)\n",
      "File \u001b[1;32mc:\\Users\\robbe\\AppData\\Local\\Programs\\Python\\Python39\\lib\\site-packages\\sklearn\\utils\\validation.py:856\u001b[0m, in \u001b[0;36mcheck_array\u001b[1;34m(array, accept_sparse, accept_large_sparse, dtype, order, copy, force_all_finite, ensure_2d, allow_nd, ensure_min_samples, ensure_min_features, estimator, input_name)\u001b[0m\n\u001b[0;32m    854\u001b[0m         array \u001b[39m=\u001b[39m array\u001b[39m.\u001b[39mastype(dtype, casting\u001b[39m=\u001b[39m\u001b[39m\"\u001b[39m\u001b[39munsafe\u001b[39m\u001b[39m\"\u001b[39m, copy\u001b[39m=\u001b[39m\u001b[39mFalse\u001b[39;00m)\n\u001b[0;32m    855\u001b[0m     \u001b[39melse\u001b[39;00m:\n\u001b[1;32m--> 856\u001b[0m         array \u001b[39m=\u001b[39m np\u001b[39m.\u001b[39;49masarray(array, order\u001b[39m=\u001b[39;49morder, dtype\u001b[39m=\u001b[39;49mdtype)\n\u001b[0;32m    857\u001b[0m \u001b[39mexcept\u001b[39;00m ComplexWarning \u001b[39mas\u001b[39;00m complex_warning:\n\u001b[0;32m    858\u001b[0m     \u001b[39mraise\u001b[39;00m \u001b[39mValueError\u001b[39;00m(\n\u001b[0;32m    859\u001b[0m         \u001b[39m\"\u001b[39m\u001b[39mComplex data not supported\u001b[39m\u001b[39m\\n\u001b[39;00m\u001b[39m{}\u001b[39;00m\u001b[39m\\n\u001b[39;00m\u001b[39m\"\u001b[39m\u001b[39m.\u001b[39mformat(array)\n\u001b[0;32m    860\u001b[0m     ) \u001b[39mfrom\u001b[39;00m \u001b[39mcomplex_warning\u001b[39;00m\n",
      "File \u001b[1;32mc:\\Users\\robbe\\AppData\\Local\\Programs\\Python\\Python39\\lib\\site-packages\\numpy\\core\\_asarray.py:102\u001b[0m, in \u001b[0;36masarray\u001b[1;34m(a, dtype, order, like)\u001b[0m\n\u001b[0;32m     99\u001b[0m \u001b[39mif\u001b[39;00m like \u001b[39mis\u001b[39;00m \u001b[39mnot\u001b[39;00m \u001b[39mNone\u001b[39;00m:\n\u001b[0;32m    100\u001b[0m     \u001b[39mreturn\u001b[39;00m _asarray_with_like(a, dtype\u001b[39m=\u001b[39mdtype, order\u001b[39m=\u001b[39morder, like\u001b[39m=\u001b[39mlike)\n\u001b[1;32m--> 102\u001b[0m \u001b[39mreturn\u001b[39;00m array(a, dtype, copy\u001b[39m=\u001b[39;49m\u001b[39mFalse\u001b[39;49;00m, order\u001b[39m=\u001b[39;49morder)\n",
      "File \u001b[1;32mc:\\Users\\robbe\\AppData\\Local\\Programs\\Python\\Python39\\lib\\site-packages\\pandas\\core\\series.py:872\u001b[0m, in \u001b[0;36mSeries.__array__\u001b[1;34m(self, dtype)\u001b[0m\n\u001b[0;32m    825\u001b[0m \u001b[39mdef\u001b[39;00m \u001b[39m__array__\u001b[39m(\u001b[39mself\u001b[39m, dtype: npt\u001b[39m.\u001b[39mDTypeLike \u001b[39m|\u001b[39m \u001b[39mNone\u001b[39;00m \u001b[39m=\u001b[39m \u001b[39mNone\u001b[39;00m) \u001b[39m-\u001b[39m\u001b[39m>\u001b[39m np\u001b[39m.\u001b[39mndarray:\n\u001b[0;32m    826\u001b[0m     \u001b[39m\"\"\"\u001b[39m\n\u001b[0;32m    827\u001b[0m \u001b[39m    Return the values as a NumPy array.\u001b[39m\n\u001b[0;32m    828\u001b[0m \n\u001b[1;32m   (...)\u001b[0m\n\u001b[0;32m    870\u001b[0m \u001b[39m          dtype='datetime64[ns]')\u001b[39m\n\u001b[0;32m    871\u001b[0m \u001b[39m    \"\"\"\u001b[39m\n\u001b[1;32m--> 872\u001b[0m     \u001b[39mreturn\u001b[39;00m np\u001b[39m.\u001b[39;49masarray(\u001b[39mself\u001b[39;49m\u001b[39m.\u001b[39;49m_values, dtype)\n",
      "File \u001b[1;32mc:\\Users\\robbe\\AppData\\Local\\Programs\\Python\\Python39\\lib\\site-packages\\numpy\\core\\_asarray.py:102\u001b[0m, in \u001b[0;36masarray\u001b[1;34m(a, dtype, order, like)\u001b[0m\n\u001b[0;32m     99\u001b[0m \u001b[39mif\u001b[39;00m like \u001b[39mis\u001b[39;00m \u001b[39mnot\u001b[39;00m \u001b[39mNone\u001b[39;00m:\n\u001b[0;32m    100\u001b[0m     \u001b[39mreturn\u001b[39;00m _asarray_with_like(a, dtype\u001b[39m=\u001b[39mdtype, order\u001b[39m=\u001b[39morder, like\u001b[39m=\u001b[39mlike)\n\u001b[1;32m--> 102\u001b[0m \u001b[39mreturn\u001b[39;00m array(a, dtype, copy\u001b[39m=\u001b[39;49m\u001b[39mFalse\u001b[39;49;00m, order\u001b[39m=\u001b[39;49morder)\n",
      "\u001b[1;31mValueError\u001b[0m: could not convert string to float: 'M'"
     ]
    }
   ],
   "source": [
    "#use knn to predict the final result based on the gender, imd_band, age_band, num_of_prev_attempts, studied_credits, sum_click\n",
    "knn = KNeighborsClassifier(n_neighbors=5)\n",
    "knn.fit(x_train, y_train)\n",
    "y_pred = knn.predict(x_test)\n",
    "print(\"Accuracy:\", y_pred)"
   ]
  }
 ],
 "metadata": {
  "kernelspec": {
   "display_name": "Python 3",
   "language": "python",
   "name": "python3"
  },
  "language_info": {
   "codemirror_mode": {
    "name": "ipython",
    "version": 3
   },
   "file_extension": ".py",
   "mimetype": "text/x-python",
   "name": "python",
   "nbconvert_exporter": "python",
   "pygments_lexer": "ipython3",
   "version": "3.9.1"
  },
  "vscode": {
   "interpreter": {
    "hash": "c63f4ecd0005f07c40b6ebeb83b983cc57a33d941931825f5bf304630c3e124a"
   }
  }
 },
 "nbformat": 4,
 "nbformat_minor": 2
}
