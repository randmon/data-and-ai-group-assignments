{
 "cells": [
  {
   "cell_type": "code",
   "execution_count": 20,
   "metadata": {},
   "outputs": [],
   "source": [
    "# Load in the python modules\n",
    "import pandas as pd\n",
    "import numpy as np\n",
    "import matplotlib.pyplot as plt\n",
    "import seaborn as sns\n",
    "import plotly.express as px\n",
    "from scipy import stats\n",
    "from sklearn.preprocessing import LabelEncoder\n",
    "from sklearn.model_selection import train_test_split\n",
    "from sklearn.neighbors import KNeighborsClassifier\n",
    "from sklearn.linear_model import LinearRegression\n",
    "from sklearn.tree import DecisionTreeClassifier\n",
    "from sklearn.model_selection import cross_val_score\n",
    "from sklearn.model_selection import learning_curve\n",
    "\n",
    "import sklearn.metrics as metrics\n",
    "pd.options.display.float_format = '{:,.2f}'.format"
   ]
  },
  {
   "cell_type": "code",
   "execution_count": 3,
   "metadata": {},
   "outputs": [],
   "source": [
    "# Create the data frames\n",
    "student_info_df = pd.read_csv('data/studentInfo.csv')\n"
   ]
  },
  {
   "cell_type": "code",
   "execution_count": 32,
   "metadata": {},
   "outputs": [
    {
     "name": "stdout",
     "output_type": "stream",
     "text": [
      "Accuracy: 0.3529738743746526\n",
      "0.35807770402092104\n"
     ]
    }
   ],
   "source": [
    "student_info_df.head(20)\n",
    "\n",
    "student_info_df.isnull().sum()\n",
    "\n",
    "student_info_df.dropna(subset=['imd_band'], inplace=True)\n",
    "student_info_df.reset_index(drop=True, inplace=True)\n",
    "student_info_df.head(30)\n",
    "\n",
    "\n",
    "y = student_info_df[['final_result']]\n",
    "# convert pass to 0 and fail to 1 and withdrawn to 2 and distinction to 3\n",
    "y = y.replace(['Pass', 'Fail', 'Withdrawn', 'Distinction'], [0, 1, 2, 3])\n",
    "\n",
    "# create a new data frame called x which might be used to predict the final result\n",
    "\n",
    "x = student_info_df.drop(['final_result', 'code_module', 'code_presentation', 'id_student'], axis=1)\n",
    "#x = pd.get_dummies(x, columns=['disability', 'imd_band', 'age_band','studied_credits','region', 'highest_education', 'gender'])\n",
    "# # convert the categorical data to numerical data for everything except studied_credits\n",
    "le = LabelEncoder()\n",
    "x['gender'] = le.fit_transform(x['gender'])\n",
    "x['disability'] = le.fit_transform(x['disability'])\n",
    "x['imd_band'] = le.fit_transform(x['imd_band'])\n",
    "x['age_band'] = le.fit_transform(x['age_band'])\n",
    "x['region'] = le.fit_transform(x['region'])\n",
    "x['highest_education'] = le.fit_transform(x['highest_education'])\n",
    "\n",
    "# use a descision tree to predict the final result\n",
    "x_train, x_test, y_train, y_test = train_test_split(x, y, test_size=0.4, random_state=0)\n",
    "clf = DecisionTreeClassifier()\n",
    "\n",
    "# fit the model\n",
    "clf = clf.fit(x_train, y_train)\n",
    "y_pred = clf.predict(x_test)\n",
    "\n",
    "# print the accuracy of the model\n",
    "print(\"Accuracy:\", metrics.accuracy_score(y_test, y_pred))\n",
    "\n",
    "predicted = cross_val_score(clf, x, y, cv=10)\n",
    "print(predicted.mean())\n"
   ]
  }
 ],
 "metadata": {
  "kernelspec": {
   "display_name": "Python 3",
   "language": "python",
   "name": "python3"
  },
  "language_info": {
   "codemirror_mode": {
    "name": "ipython",
    "version": 3
   },
   "file_extension": ".py",
   "mimetype": "text/x-python",
   "name": "python",
   "nbconvert_exporter": "python",
   "pygments_lexer": "ipython3",
   "version": "3.8.5"
  },
  "orig_nbformat": 4,
  "vscode": {
   "interpreter": {
    "hash": "d5d1249b5fe30e46e74ceeacdd3f24b42c98167c36f219cfad19945447007da9"
   }
  }
 },
 "nbformat": 4,
 "nbformat_minor": 2
}
