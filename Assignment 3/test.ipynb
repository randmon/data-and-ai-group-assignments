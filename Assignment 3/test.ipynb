{
 "cells": [
  {
   "cell_type": "code",
   "execution_count": null,
   "metadata": {},
   "outputs": [],
   "source": [
    "# Load in the python modules\n",
    "import pandas as pd\n",
    "import numpy as np\n",
    "import matplotlib.pyplot as plt\n",
    "import seaborn as sns\n",
    "import plotly.express as px\n",
    "from scipy import stats\n",
    "from sklearn.preprocessing import LabelEncoder\n",
    "from sklearn.model_selection import train_test_split\n",
    "from sklearn.neighbors import KNeighborsClassifier\n",
    "from sklearn.linear_model import LinearRegression\n",
    "from sklearn.tree import DecisionTreeClassifier\n",
    "from sklearn.model_selection import cross_val_score\n",
    "from sklearn import tree\n",
    "from sklearn.model_selection import GridSearchCV\n",
    "from sklearn.metrics import accuracy_score\n",
    "from sklearn.tree import plot_tree\n",
    "import keras\n",
    "from keras.models import Sequential\n",
    "from keras.layers import Dense\n",
    "\n",
    "from keras.wrappers.scikit_learn import KerasClassifier\n",
    "\n",
    "from sklearn.metrics import plot_confusion_matrix\n",
    "from sklearn.metrics import confusion_matrix,ConfusionMatrixDisplay\n",
    "\n",
    "from sklearn.model_selection import cross_val_score\n",
    "from sklearn.naive_bayes import GaussianNB\n",
    "from sklearn.ensemble import RandomForestClassifier\n",
    "from sklearn.model_selection import learning_curve\n",
    "from sklearn.linear_model import LogisticRegression\n",
    "from sklearn.svm import SVC\n",
    "from sklearn.preprocessing import StandardScaler\n",
    "from sklearn.model_selection import RandomizedSearchCV\n",
    "\n",
    "import pydotplus \n",
    "\n",
    "import sklearn.metrics as metrics\n",
    "pd.options.display.float_format = '{:,.2f}'.format"
   ]
  },
  {
   "cell_type": "code",
   "execution_count": null,
   "metadata": {},
   "outputs": [],
   "source": [
    "# Create the data frames\n",
    "student_info_df = pd.read_csv('data/studentInfo.csv')\n"
   ]
  },
  {
   "cell_type": "code",
   "execution_count": null,
   "metadata": {},
   "outputs": [],
   "source": [
    "student_info_df.dropna(subset=['imd_band'], inplace=True)\n",
    "student_info_df.reset_index(drop=True, inplace=True)\n",
    "# drop widthdrawn\n",
    "student_info_df = student_info_df[student_info_df.final_result != 'Withdrawn']\n",
    "\n",
    "y = student_info_df[['final_result']]\n",
    "# convert pass to 0 and fail to 1 and withdrawn to 2 and distinction to 3\n",
    "y = y.replace(['Pass', 'Fail'], [0, 1])\n",
    "\n",
    "\n",
    "# replace distinction with 0\n",
    "y = y.replace(['Distinction'], [0])\n",
    "\n",
    "\n",
    "# create a new data frame called x which might be used to predict the final result\n",
    "\n",
    "x = student_info_df.drop(['final_result', 'id_student', 'code_presentation', 'code_module'], axis=1)\n",
    "\n",
    "# convert the categorical data to numerical data for everything except studied_credits\n",
    "le = LabelEncoder()\n",
    "x['gender'] = le.fit_transform(x['gender'])\n",
    "x['disability'] = le.fit_transform(x['disability'])\n",
    "#x['code_presentation'] = le.fit_transform(x['code_presentation'])\n",
    "#x['code_module'] = le.fit_transform(x['code_module'])\n",
    "x['imd_band'] = le.fit_transform(x['imd_band'])\n",
    "x['age_band'] = le.fit_transform(x['age_band'])\n",
    "x['region'] = le.fit_transform(x['region'])\n",
    "x['highest_education'] = le.fit_transform(x['highest_education'])\n",
    "\n",
    "\n",
    "# predicted = cross_val_score(clf, x, y, cv=10)\n",
    "# print(predicted.mean())\n",
    "\n",
    "\n"
   ]
  },
  {
   "cell_type": "code",
   "execution_count": null,
   "metadata": {},
   "outputs": [],
   "source": [
    "x_train, x_test, y_train, y_test = train_test_split(x, y, test_size=0.4, random_state=0)"
   ]
  },
  {
   "cell_type": "code",
   "execution_count": null,
   "metadata": {},
   "outputs": [],
   "source": [
    "x.columns[2]\n"
   ]
  },
  {
   "cell_type": "code",
   "execution_count": null,
   "metadata": {},
   "outputs": [],
   "source": [
    "clf = DecisionTreeClassifier(max_depth=5)\n",
    "clf.fit(x_train, y_train)\n",
    "y_pred = clf.predict(x_test)\n",
    "cross_val_score(clf, x_train, y_train)\n",
    "\n",
    "matrix = confusion_matrix(y_test, y_pred)\n",
    "\n",
    "disp = ConfusionMatrixDisplay(confusion_matrix=matrix,display_labels=clf.classes_)\n",
    "            \n",
    "\n",
    "disp.plot()\n",
    "plt.show()\n",
    "\n",
    "print(\"Accuracy decision tree:\", metrics.accuracy_score(y_test, y_pred))\n",
    "\n",
    "# print recall, precision and f1 score\n",
    "print(\"Recall:\", metrics.recall_score(y_test, y_pred))\n",
    "print(\"Precision:\", metrics.precision_score(y_test, y_pred))\n",
    "print(\"F1 score:\", metrics.f1_score(y_test, y_pred))"
   ]
  },
  {
   "cell_type": "code",
   "execution_count": null,
   "metadata": {},
   "outputs": [],
   "source": [
    "fig, ax = plt.subplots(figsize=(20, 20))\n",
    "plot_tree(clf, ax=ax)\n",
    "plt.show()\n"
   ]
  },
  {
   "cell_type": "code",
   "execution_count": null,
   "metadata": {},
   "outputs": [],
   "source": [
    "train_sizes, train_scores, test_scores = learning_curve(clf, x, y, cv=5, scoring='accuracy', n_jobs=-1, train_sizes=np.linspace(0.01, 1.0, 50), verbose=1)\n",
    "\n",
    "# plot the learning curve\n",
    "plt.figure()\n",
    "plt.title(\"Learning Curve\")\n",
    "plt.xlabel(\"Training examples\")\n",
    "plt.ylabel(\"Score\")\n",
    "plt.grid()\n",
    "plt.plot(train_sizes, np.mean(train_scores, axis=1), 'o-', color=\"r\", label=\"Training score\")\n",
    "plt.plot(train_sizes, np.mean(test_scores, axis=1), 'o-', color=\"g\", label=\"Cross-validation score\")\n",
    "plt.legend(loc=\"best\")\n",
    "plt.show()"
   ]
  },
  {
   "cell_type": "code",
   "execution_count": null,
   "metadata": {},
   "outputs": [],
   "source": [
    "# use random forest classifier to predict the final result\n",
    "clf = RandomForestClassifier(n_estimators=300, max_depth=5, random_state=0)\n",
    "y_train = np.ravel(y_train)\n",
    "clf.fit(x_train, y_train)\n",
    "y_pred = clf.predict(x_test)\n",
    "cross_val_score(clf, x_train, y_train)\n",
    "\n",
    "matrix = confusion_matrix(y_test, y_pred)\n",
    "\n",
    "disp = ConfusionMatrixDisplay(confusion_matrix=matrix,display_labels=clf.classes_)\n",
    "            \n",
    "\n",
    "disp.plot()\n",
    "plt.show()\n",
    "\n",
    "print(\"Accuracy random forest:\", metrics.accuracy_score(y_test, y_pred))\n",
    "print(\"Recall decision tree:\", metrics.recall_score(y_test, y_pred))\n",
    "print(\"Precision decision tree:\", metrics.precision_score(y_test, y_pred))\n",
    "print(\"F1 score decision tree:\", metrics.f1_score(y_test, y_pred))"
   ]
  },
  {
   "cell_type": "code",
   "execution_count": null,
   "metadata": {},
   "outputs": [],
   "source": [
    "# use logistic regression to predict the final result\n",
    "clf = LogisticRegression(random_state=0, solver='lbfgs', multi_class='multinomial', max_iter=500).fit(x_train, y_train)\n",
    "clf.fit(x_train, y_train)\n",
    "y_pred = clf.predict(x_test)\n",
    "cross_val_score(clf, x_train, y_train)\n",
    "\n",
    "matrix = confusion_matrix(y_test, y_pred)\n",
    "\n",
    "disp = ConfusionMatrixDisplay(confusion_matrix=matrix,display_labels=clf.classes_)\n",
    "            \n",
    "\n",
    "disp.plot()\n",
    "plt.show()\n",
    "\n",
    "print(\"Accuracy logistic regression:\", metrics.accuracy_score(y_test, y_pred))\n",
    "print(\"Recall decision tree:\", metrics.recall_score(y_test, y_pred))\n",
    "print(\"Precision decision tree:\", metrics.precision_score(y_test, y_pred))\n",
    "print(\"F1 score decision tree:\", metrics.f1_score(y_test, y_pred))\n"
   ]
  },
  {
   "cell_type": "code",
   "execution_count": null,
   "metadata": {},
   "outputs": [],
   "source": [
    "knn_classifier = KNeighborsClassifier(n_neighbors=10)\n",
    "knn_classifier.fit(x_train, y_train)\n",
    "y_pred = knn_classifier.predict(x_test)\n",
    "cross_val_score(clf, x_train, y_train)\n",
    "\n",
    "matrix = confusion_matrix(y_test, y_pred)\n",
    "\n",
    "disp = ConfusionMatrixDisplay(confusion_matrix=matrix,display_labels=clf.classes_)\n",
    "            \n",
    "\n",
    "disp.plot()\n",
    "plt.show()\n",
    "\n",
    "print(\"Accuracy knn:\", metrics.accuracy_score(y_test, y_pred))\n",
    "print(\"Recall decision tree:\", metrics.recall_score(y_test, y_pred))\n",
    "print(\"Precision decision tree:\", metrics.precision_score(y_test, y_pred))\n",
    "print(\"F1 score decision tree:\", metrics.f1_score(y_test, y_pred))"
   ]
  },
  {
   "cell_type": "code",
   "execution_count": null,
   "metadata": {},
   "outputs": [],
   "source": [
    "# use naive bayes to predict the final result\n",
    "clf = GaussianNB()\n",
    "clf.fit(x_train, y_train)\n",
    "y_pred = clf.predict(x_test)\n",
    "cross_val_score(clf, x_train, y_train)\n",
    "\n",
    "matrix = confusion_matrix(y_test, y_pred)\n",
    "\n",
    "disp = ConfusionMatrixDisplay(confusion_matrix=matrix,display_labels=clf.classes_)\n",
    "            \n",
    "\n",
    "disp.plot()\n",
    "plt.show()\n",
    "\n",
    "print(\"Accuracy naive bayes:\", metrics.accuracy_score(y_test, y_pred))\n",
    "print(\"Recall decision tree:\", metrics.recall_score(y_test, y_pred))\n",
    "print(\"Precision decision tree:\", metrics.precision_score(y_test, y_pred))\n",
    "print(\"F1 score decision tree:\", metrics.f1_score(y_test, y_pred))"
   ]
  },
  {
   "cell_type": "code",
   "execution_count": 80,
   "metadata": {},
   "outputs": [
    {
     "data": {
      "image/png": "[encoded data removed]",
      "text/plain": [
       "<Figure size 640x480 with 2 Axes>"
      ]
     },
     "metadata": {},
     "output_type": "display_data"
    },
    {
     "name": "stdout",
     "output_type": "stream",
     "text": [
      "Accuracy: 0.6844057971014492\n",
      "Recall decision tree: 0.04533913674283642\n",
      "Precision decision tree: 0.5813953488372093\n",
      "F1 score decision tree: 0.08411843876177659\n"
     ]
    }
   ],
   "source": [
    "y_train = np.ravel(y_train)\n",
    "clf = SVC(kernel='linear')\n",
    "clf = clf.fit(x_train, y_train)\n",
    "y_pred = clf.predict(x_test)\n",
    "matrix = confusion_matrix(y_test, y_pred)\n",
    "\n",
    "disp = ConfusionMatrixDisplay(confusion_matrix=matrix,display_labels=clf.classes_)\n",
    "            \n",
    "\n",
    "disp.plot()\n",
    "plt.show()\n",
    "print(\"Accuracy:\", metrics.accuracy_score(y_test, y_pred))\n",
    "print(\"Recall decision tree:\", metrics.recall_score(y_test, y_pred))\n",
    "print(\"Precision decision tree:\", metrics.precision_score(y_test, y_pred))\n",
    "print(\"F1 score decision tree:\", metrics.f1_score(y_test, y_pred))\n"
   ]
  },
  {
   "cell_type": "code",
   "execution_count": null,
   "metadata": {},
   "outputs": [],
   "source": [
    "y_train = np.ravel(y_train)\n",
    "clf = SVC(kernel='rbf')\n",
    "clf = clf.fit(x_train, y_train)\n",
    "y_pred = clf.predict(x_test)\n",
    "print(\"Accuracy:\", metrics.accuracy_score(y_test, y_pred))\n",
    "print(\"Recall decision tree:\", metrics.recall_score(y_test, y_pred))\n",
    "print(\"Precision decision tree:\", metrics.precision_score(y_test, y_pred))\n",
    "print(\"F1 score decision tree:\", metrics.f1_score(y_test, y_pred))\n",
    "\n"
   ]
  },
  {
   "cell_type": "code",
   "execution_count": null,
   "metadata": {},
   "outputs": [],
   "source": [
    "y_train = np.ravel(y_train)\n",
    "clf = SVC(kernel='poly')\n",
    "clf = clf.fit(x_train, y_train)\n",
    "y_pred = clf.predict(x_test)\n",
    "print(\"Accuracy:\", metrics.accuracy_score(y_test, y_pred))\n",
    "print(\"Recall decision tree:\", metrics.recall_score(y_test, y_pred))\n",
    "print(\"Precision decision tree:\", metrics.precision_score(y_test, y_pred))\n",
    "print(\"F1 score decision tree:\", metrics.f1_score(y_test, y_pred))"
   ]
  },
  {
   "cell_type": "code",
   "execution_count": null,
   "metadata": {},
   "outputs": [],
   "source": [
    "y_train = np.ravel(y_train)\n",
    "clf = SVC(kernel='sigmoid')\n",
    "clf = clf.fit(x_train, y_train)\n",
    "y_pred = clf.predict(x_test)\n",
    "print(\"Accuracy:\", metrics.accuracy_score(y_test, y_pred))\n",
    "print(\"Recall decision tree:\", metrics.recall_score(y_test, y_pred))\n",
    "print(\"Precision decision tree:\", metrics.precision_score(y_test, y_pred))\n",
    "print(\"F1 score decision tree:\", metrics.f1_score(y_test, y_pred))"
   ]
  },
  {
   "cell_type": "code",
   "execution_count": null,
   "metadata": {},
   "outputs": [],
   "source": [
    "\n",
    "\n",
    "def create_model():\n",
    "    model = Sequential()\n",
    "    model.add(Dense(16, input_dim=x_train.shape[1], activation='relu',kernel_initializer='lecun_uniform'))\n",
    "    model.add(Dense(8, activation='relu'))\n",
    "    model.add(Dense(8, activation='relu'))\n",
    "    model.add(Dense(8, activation='relu', kernel_initializer='lecun_uniform'))\n",
    "    model.add(Dense(1, activation='sigmoid'))\n",
    "\n",
    "    # Compile the model\n",
    "    model.compile(loss='binary_crossentropy', optimizer='adam', metrics=['accuracy'])\n",
    "    return model\n",
    "\n",
    "# Create the KerasClassifier\n",
    "model = KerasClassifier(build_fn=create_model, epochs=10, batch_size=10, verbose=0)\n",
    "\n",
    "# Use cross_val_score to evaluate the model using 10-fold cross-validation\n",
    "# scores = cross_val_score(model, x_train, y_train, cv=10)\n",
    "\n",
    "# Print the mean and standard deviation of the scores\n",
    "#print(\"Mean accuracy: %0.4f (+/- %0.4f)\" % (scores.mean(), scores.std()))\n",
    "\n",
    "# Train the model, keeping track of the training and validation accuracy for each epoch\n",
    "history = model.fit(x_train, y_train, epochs=10, batch_size=10, validation_data=(x_test, y_test))\n",
    "\n",
    "# Extract the training and validation accuracy from the history object\n",
    "train_acc = history.history['accuracy']\n",
    "val_acc = history.history['val_accuracy']\n",
    "\n",
    "# Plot the training and validation recall\n",
    "plt.plot(range(1, len(train_acc) + 1), train_acc, 'b', label='Training accuracy')\n",
    "plt.plot(range(1, len(val_acc) + 1), val_acc, 'r', label='Validation accuracy')\n",
    "plt.xlabel('Epochs')\n",
    "plt.ylabel('Accuracy')\n",
    "plt.legend(loc='lower right')\n",
    "plt.show()\n",
    "\n",
    "# make confusion matrix\n",
    "from sklearn.metrics import confusion_matrix\n",
    "\n",
    "# Make predictions on the test set\n",
    "predictions = model.predict(x_test)\n",
    " # print the predictions\n",
    "print(predictions)"
   ]
  },
  {
   "cell_type": "code",
   "execution_count": null,
   "metadata": {},
   "outputs": [],
   "source": [
    "# Create a confusion matrix\n",
    "confusion_mat = confusion_matrix(y_test, predictions)\n",
    "print(confusion_mat)\n",
    "\n",
    "# print the accuracy\n",
    "print(\"Accuracy:\",metrics.accuracy_score(y_test, predictions))\n",
    "\n",
    "# print the precision\n",
    "print(\"Precision:\",metrics.precision_score(y_test, predictions))\n",
    "\n",
    "# print the recall\n",
    "print(\"Recall:\",metrics.recall_score(y_test, predictions))\n",
    "\n",
    "# print the f1 score\n",
    "print(\"F1 Score:\",metrics.f1_score(y_test, predictions))"
   ]
  }
 ],
 "metadata": {
  "kernelspec": {
   "display_name": "Python 3",
   "language": "python",
   "name": "python3"
  },
  "language_info": {
   "codemirror_mode": {
    "name": "ipython",
    "version": 3
   },
   "file_extension": ".py",
   "mimetype": "text/x-python",
   "name": "python",
   "nbconvert_exporter": "python",
   "pygments_lexer": "ipython3",
   "version": "3.8.5"
  },
  "orig_nbformat": 4,
  "vscode": {
   "interpreter": {
    "hash": "d5d1249b5fe30e46e74ceeacdd3f24b42c98167c36f219cfad19945447007da9"
   }
  }
 },
 "nbformat": 4,
 "nbformat_minor": 2
}
