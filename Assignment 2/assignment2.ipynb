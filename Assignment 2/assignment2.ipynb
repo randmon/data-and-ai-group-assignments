{
 "cells": [
  {
   "cell_type": "code",
   "execution_count": null,
   "metadata": {},
   "outputs": [],
   "source": []
  }
 ],
 "metadata": {
  "kernelspec": {
   "display_name": "Python 3.9.1 64-bit",
   "language": "python",
   "name": "python3"
  },
  "language_info": {
   "name": "python",
   "version": "3.9.1"
  },
  "orig_nbformat": 4,
  "vscode": {
   "interpreter": {
    "hash": "4742aa950dec9f934ceea9597eb0a9666225f8f066c18c320d5cc3584d8824dc"
   }
  }
 },
 "nbformat": 4,
 "nbformat_minor": 2
}
